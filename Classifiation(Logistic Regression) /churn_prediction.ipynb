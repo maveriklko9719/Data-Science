{
 "cells": [
  {
   "cell_type": "code",
   "execution_count": null,
   "id": "e7979961",
   "metadata": {},
   "outputs": [],
   "source": []
  },
  {
   "cell_type": "markdown",
   "id": "741436da",
   "metadata": {},
   "source": [
    "### Import packages"
   ]
  },
  {
   "cell_type": "code",
   "execution_count": 1,
   "id": "3f7ce7a8",
   "metadata": {},
   "outputs": [],
   "source": [
    "# suppress warnings\n",
    "import warnings\n",
    "warnings.filterwarnings('ignore')\n",
    "# importing libraries\n",
    "import numpy as np\n",
    "import pandas as pd\n",
    "import matplotlib.pyplot as plt\n",
    "import seaborn as sns\n",
    "import statsmodels.api as sm\n",
    "from sklearn.preprocessing import StandardScaler\n",
    "from sklearn.preprocessing import MinMaxScaler\n",
    "from sklearn.model_selection import train_test_split"
   ]
  },
  {
   "cell_type": "markdown",
   "id": "dcd3a09e",
   "metadata": {},
   "source": [
    "### User defined functions"
   ]
  },
  {
   "cell_type": "code",
   "execution_count": 2,
   "id": "f4823462",
   "metadata": {},
   "outputs": [],
   "source": [
    "# Few methods which are used again and again in the file\n",
    "\n",
    "# Function for value count\n",
    "def value_count(x):\n",
    "    print(\"---------------------------------------------------------------\\n\")\n",
    "    print(round(x.value_counts(normalize=True)*100,2))\n",
    "    print(\"---------------------------------------------------------------\\n\")\n",
    "\n",
    "# calculation null values in dataframe columnwise\n",
    "def calculateNullPercentage(x):\n",
    "    return round(100 * (x.isnull().sum() / len(x.index)), 2)"
   ]
  },
  {
   "cell_type": "code",
   "execution_count": 3,
   "id": "82012daf",
   "metadata": {},
   "outputs": [],
   "source": [
    "# Function for Univariate plot of Categorical Variable and its bivariate plot against the target variable is_bad\n",
    "\n",
    "def plot_uni_bi(a,y,r=0):\n",
    "    \"\"\"\n",
    "    Input:\n",
    "    a - dataframe\n",
    "    y - column\n",
    "    r - rotation of xticks\n",
    "    \"\"\"\n",
    "    # Plotting vs self and target variable\n",
    "\n",
    "    plt.figure(figsize=(18, 12))\n",
    "\n",
    "    # Univariate Analysis \n",
    "    ax= plt.subplot(221)\n",
    "    round(a[y].value_counts(normalize=True),2).plot(kind='bar',color='green')\n",
    "    ttl=y+' %'\n",
    "    plt.title(ttl)\n",
    "    plt.xlabel(y)\n",
    "    plt.xticks(rotation=r)\n",
    "    plt.ylabel('% of ' + y)\n",
    "\n",
    "    # Bivariate Analysis\n",
    "\n",
    "    ax=plt.subplot(222)\n",
    "    plt.title('Distribution of '+ '%s' %y +' vs. Exited', fontsize=14)\n",
    "    sns.countplot(x = y, hue = 'Exited', data = a, order = sorted(set(a[y])))\n",
    "    plt.xticks(rotation = r)\n",
    "    plt.show()"
   ]
  },
  {
   "cell_type": "code",
   "execution_count": 4,
   "id": "10dbb99f",
   "metadata": {},
   "outputs": [],
   "source": [
    "def tabular_uni_bi(d,y):\n",
    "    \"\"\"\n",
    "    Input:\n",
    "    d - dataframe\n",
    "    y - column\n",
    "    \"\"\"\n",
    "    print(\"***********************************\")\n",
    "    print(y + \" vs Exited %\")\n",
    "    print(\"***********************************\")\n",
    "    print(round(pd.crosstab(d[y],d.Exited).apply(lambda r: (r*100)/r.sum(),axis=1),2))\n",
    "            \n",
    "    print(\"***********************************\")"
   ]
  },
  {
   "cell_type": "code",
   "execution_count": 5,
   "id": "543ba51b",
   "metadata": {},
   "outputs": [],
   "source": [
    "from statsmodels.stats.outliers_influence import variance_inflation_factor\n",
    "def vif_cal(X_df,col):\n",
    "    \"\"\"\n",
    "    Input:\n",
    "    X_df : X_train df\n",
    "    col : list of columns\n",
    "    \"\"\"\n",
    "    vif = pd.DataFrame()\n",
    "    vif['Features'] = X_df[col].columns\n",
    "    vif['VIF'] = [variance_inflation_factor(X_df[col].values, i) for i in range(X_df[col].shape[1])]\n",
    "    vif['VIF'] = round(vif['VIF'], 2)\n",
    "    vif = vif.sort_values(by = \"VIF\", ascending = False)\n",
    "    print(\"VIF values are as:\");\n",
    "    print(vif)"
   ]
  },
  {
   "cell_type": "code",
   "execution_count": 6,
   "id": "ce755e22",
   "metadata": {},
   "outputs": [],
   "source": [
    "def print_results(y_train, y_pred, y_test, y_pred_test):\n",
    "    \"\"\"\n",
    "    Input:\n",
    "    y_train :\n",
    "    y_pred :\n",
    "    y_test :\n",
    "    y_pred_test :\n",
    "    \"\"\"\n",
    "    # to print the results in good way\n",
    "    #print(\"Classification Report:\"); print(\"=\"*len(\"Accuracy:\"))\n",
    "    #print(f\"TRAIN: {classification_report(y_train, y_pred)}\")\n",
    "    #print(\"====================================================\")\n",
    "    #print(f\"TEST: {classification_report(y_test, y_pred_test)}\")\n",
    "\n",
    "\n",
    "    print(\"Accuracy:\"); print(\"=\"*len(\"Accuracy:\"))\n",
    "    print(f\"TRAIN: {accuracy_score(y_train, y_pred)}\")\n",
    "    print(f\"TEST: {accuracy_score(y_test, y_pred_test)}\")\n",
    "\n",
    "    print(\"\\nPrecision:\"); print(\"=\"*len(\"Precision:\"))\n",
    "    print(f\"TRAIN: {precision_score(y_train, y_pred)}\")\n",
    "    print(f\"TEST: {precision_score(y_test, y_pred_test)}\")\n",
    "\n",
    "    print(\"\\nRecall:\"); print(\"=\"*len(\"Recall:\"))\n",
    "    print(f\"TRAIN: {recall_score(y_train, y_pred)}\")\n",
    "    print(f\"TEST: {recall_score(y_test, y_pred_test)}\")\n",
    "\n",
    "    print(\"\\n F1 Score:\"); print(\"=\"*len(\"F1 Score:\"))\n",
    "    print(f\"TRAIN: {f1_score(y_train, y_pred)}\")\n",
    "    print(f\"TEST: {f1_score(y_test, y_pred_test)}\")\n",
    "\n",
    "    print(\"\\n ROC AUC:\"); print(\"=\"*len(\"ROC AUC:\"))\n",
    "    print(f\"TRAIN: {roc_auc_score(y_train, y_pred)}\")\n",
    "    print(f\"TEST: {roc_auc_score(y_test, y_pred_test)}\")"
   ]
  },
  {
   "cell_type": "markdown",
   "id": "6f6605d8",
   "metadata": {},
   "source": [
    "### Preliminary Analysis"
   ]
  },
  {
   "cell_type": "code",
   "execution_count": 7,
   "id": "852da490",
   "metadata": {},
   "outputs": [],
   "source": [
    "df = pd.read_csv('Churn_Modelling.csv') # read csv dataset \n",
    "\n",
    "df_bkp = df.copy() # create backup"
   ]
  },
  {
   "cell_type": "code",
   "execution_count": 8,
   "id": "0ae6d700",
   "metadata": {},
   "outputs": [
    {
     "name": "stdout",
     "output_type": "stream",
     "text": [
      "Total number of rows: 10000\n",
      "Total number of columns: 14\n"
     ]
    }
   ],
   "source": [
    "print('Total number of rows: ' + str(df.shape[0]) + '\\nTotal number of columns: ' + str(df.shape[1]))"
   ]
  },
  {
   "cell_type": "code",
   "execution_count": 9,
   "id": "84cf3917",
   "metadata": {},
   "outputs": [
    {
     "data": {
      "text/html": [
       "<div>\n",
       "<style scoped>\n",
       "    .dataframe tbody tr th:only-of-type {\n",
       "        vertical-align: middle;\n",
       "    }\n",
       "\n",
       "    .dataframe tbody tr th {\n",
       "        vertical-align: top;\n",
       "    }\n",
       "\n",
       "    .dataframe thead th {\n",
       "        text-align: right;\n",
       "    }\n",
       "</style>\n",
       "<table border=\"1\" class=\"dataframe\">\n",
       "  <thead>\n",
       "    <tr style=\"text-align: right;\">\n",
       "      <th></th>\n",
       "      <th>RowNumber</th>\n",
       "      <th>CustomerId</th>\n",
       "      <th>Surname</th>\n",
       "      <th>CreditScore</th>\n",
       "      <th>Geography</th>\n",
       "      <th>Gender</th>\n",
       "      <th>Age</th>\n",
       "      <th>Tenure</th>\n",
       "      <th>Balance</th>\n",
       "      <th>NumOfProducts</th>\n",
       "      <th>HasCrCard</th>\n",
       "      <th>IsActiveMember</th>\n",
       "      <th>EstimatedSalary</th>\n",
       "      <th>Exited</th>\n",
       "    </tr>\n",
       "  </thead>\n",
       "  <tbody>\n",
       "    <tr>\n",
       "      <th>0</th>\n",
       "      <td>1</td>\n",
       "      <td>15634602</td>\n",
       "      <td>Hargrave</td>\n",
       "      <td>619</td>\n",
       "      <td>France</td>\n",
       "      <td>Female</td>\n",
       "      <td>42</td>\n",
       "      <td>2</td>\n",
       "      <td>0.00</td>\n",
       "      <td>1</td>\n",
       "      <td>1</td>\n",
       "      <td>1</td>\n",
       "      <td>101348.88</td>\n",
       "      <td>1</td>\n",
       "    </tr>\n",
       "    <tr>\n",
       "      <th>1</th>\n",
       "      <td>2</td>\n",
       "      <td>15647311</td>\n",
       "      <td>Hill</td>\n",
       "      <td>608</td>\n",
       "      <td>Spain</td>\n",
       "      <td>Female</td>\n",
       "      <td>41</td>\n",
       "      <td>1</td>\n",
       "      <td>83807.86</td>\n",
       "      <td>1</td>\n",
       "      <td>0</td>\n",
       "      <td>1</td>\n",
       "      <td>112542.58</td>\n",
       "      <td>0</td>\n",
       "    </tr>\n",
       "    <tr>\n",
       "      <th>2</th>\n",
       "      <td>3</td>\n",
       "      <td>15619304</td>\n",
       "      <td>Onio</td>\n",
       "      <td>502</td>\n",
       "      <td>France</td>\n",
       "      <td>Female</td>\n",
       "      <td>42</td>\n",
       "      <td>8</td>\n",
       "      <td>159660.80</td>\n",
       "      <td>3</td>\n",
       "      <td>1</td>\n",
       "      <td>0</td>\n",
       "      <td>113931.57</td>\n",
       "      <td>1</td>\n",
       "    </tr>\n",
       "    <tr>\n",
       "      <th>3</th>\n",
       "      <td>4</td>\n",
       "      <td>15701354</td>\n",
       "      <td>Boni</td>\n",
       "      <td>699</td>\n",
       "      <td>France</td>\n",
       "      <td>Female</td>\n",
       "      <td>39</td>\n",
       "      <td>1</td>\n",
       "      <td>0.00</td>\n",
       "      <td>2</td>\n",
       "      <td>0</td>\n",
       "      <td>0</td>\n",
       "      <td>93826.63</td>\n",
       "      <td>0</td>\n",
       "    </tr>\n",
       "    <tr>\n",
       "      <th>4</th>\n",
       "      <td>5</td>\n",
       "      <td>15737888</td>\n",
       "      <td>Mitchell</td>\n",
       "      <td>850</td>\n",
       "      <td>Spain</td>\n",
       "      <td>Female</td>\n",
       "      <td>43</td>\n",
       "      <td>2</td>\n",
       "      <td>125510.82</td>\n",
       "      <td>1</td>\n",
       "      <td>1</td>\n",
       "      <td>1</td>\n",
       "      <td>79084.10</td>\n",
       "      <td>0</td>\n",
       "    </tr>\n",
       "  </tbody>\n",
       "</table>\n",
       "</div>"
      ],
      "text/plain": [
       "   RowNumber  CustomerId   Surname  CreditScore Geography  Gender  Age  \\\n",
       "0          1    15634602  Hargrave          619    France  Female   42   \n",
       "1          2    15647311      Hill          608     Spain  Female   41   \n",
       "2          3    15619304      Onio          502    France  Female   42   \n",
       "3          4    15701354      Boni          699    France  Female   39   \n",
       "4          5    15737888  Mitchell          850     Spain  Female   43   \n",
       "\n",
       "   Tenure    Balance  NumOfProducts  HasCrCard  IsActiveMember  \\\n",
       "0       2       0.00              1          1               1   \n",
       "1       1   83807.86              1          0               1   \n",
       "2       8  159660.80              3          1               0   \n",
       "3       1       0.00              2          0               0   \n",
       "4       2  125510.82              1          1               1   \n",
       "\n",
       "   EstimatedSalary  Exited  \n",
       "0        101348.88       1  \n",
       "1        112542.58       0  \n",
       "2        113931.57       1  \n",
       "3         93826.63       0  \n",
       "4         79084.10       0  "
      ]
     },
     "execution_count": 9,
     "metadata": {},
     "output_type": "execute_result"
    }
   ],
   "source": [
    "df.head()"
   ]
  },
  {
   "cell_type": "code",
   "execution_count": 10,
   "id": "0bfa954e",
   "metadata": {},
   "outputs": [
    {
     "data": {
      "text/html": [
       "<div>\n",
       "<style scoped>\n",
       "    .dataframe tbody tr th:only-of-type {\n",
       "        vertical-align: middle;\n",
       "    }\n",
       "\n",
       "    .dataframe tbody tr th {\n",
       "        vertical-align: top;\n",
       "    }\n",
       "\n",
       "    .dataframe thead th {\n",
       "        text-align: right;\n",
       "    }\n",
       "</style>\n",
       "<table border=\"1\" class=\"dataframe\">\n",
       "  <thead>\n",
       "    <tr style=\"text-align: right;\">\n",
       "      <th></th>\n",
       "      <th>RowNumber</th>\n",
       "      <th>CustomerId</th>\n",
       "      <th>Surname</th>\n",
       "      <th>CreditScore</th>\n",
       "      <th>Geography</th>\n",
       "      <th>Gender</th>\n",
       "      <th>Age</th>\n",
       "      <th>Tenure</th>\n",
       "      <th>Balance</th>\n",
       "      <th>NumOfProducts</th>\n",
       "      <th>HasCrCard</th>\n",
       "      <th>IsActiveMember</th>\n",
       "      <th>EstimatedSalary</th>\n",
       "      <th>Exited</th>\n",
       "    </tr>\n",
       "  </thead>\n",
       "  <tbody>\n",
       "    <tr>\n",
       "      <th>9995</th>\n",
       "      <td>9996</td>\n",
       "      <td>15606229</td>\n",
       "      <td>Obijiaku</td>\n",
       "      <td>771</td>\n",
       "      <td>France</td>\n",
       "      <td>Male</td>\n",
       "      <td>39</td>\n",
       "      <td>5</td>\n",
       "      <td>0.00</td>\n",
       "      <td>2</td>\n",
       "      <td>1</td>\n",
       "      <td>0</td>\n",
       "      <td>96270.64</td>\n",
       "      <td>0</td>\n",
       "    </tr>\n",
       "    <tr>\n",
       "      <th>9996</th>\n",
       "      <td>9997</td>\n",
       "      <td>15569892</td>\n",
       "      <td>Johnstone</td>\n",
       "      <td>516</td>\n",
       "      <td>France</td>\n",
       "      <td>Male</td>\n",
       "      <td>35</td>\n",
       "      <td>10</td>\n",
       "      <td>57369.61</td>\n",
       "      <td>1</td>\n",
       "      <td>1</td>\n",
       "      <td>1</td>\n",
       "      <td>101699.77</td>\n",
       "      <td>0</td>\n",
       "    </tr>\n",
       "    <tr>\n",
       "      <th>9997</th>\n",
       "      <td>9998</td>\n",
       "      <td>15584532</td>\n",
       "      <td>Liu</td>\n",
       "      <td>709</td>\n",
       "      <td>France</td>\n",
       "      <td>Female</td>\n",
       "      <td>36</td>\n",
       "      <td>7</td>\n",
       "      <td>0.00</td>\n",
       "      <td>1</td>\n",
       "      <td>0</td>\n",
       "      <td>1</td>\n",
       "      <td>42085.58</td>\n",
       "      <td>1</td>\n",
       "    </tr>\n",
       "    <tr>\n",
       "      <th>9998</th>\n",
       "      <td>9999</td>\n",
       "      <td>15682355</td>\n",
       "      <td>Sabbatini</td>\n",
       "      <td>772</td>\n",
       "      <td>Germany</td>\n",
       "      <td>Male</td>\n",
       "      <td>42</td>\n",
       "      <td>3</td>\n",
       "      <td>75075.31</td>\n",
       "      <td>2</td>\n",
       "      <td>1</td>\n",
       "      <td>0</td>\n",
       "      <td>92888.52</td>\n",
       "      <td>1</td>\n",
       "    </tr>\n",
       "    <tr>\n",
       "      <th>9999</th>\n",
       "      <td>10000</td>\n",
       "      <td>15628319</td>\n",
       "      <td>Walker</td>\n",
       "      <td>792</td>\n",
       "      <td>France</td>\n",
       "      <td>Female</td>\n",
       "      <td>28</td>\n",
       "      <td>4</td>\n",
       "      <td>130142.79</td>\n",
       "      <td>1</td>\n",
       "      <td>1</td>\n",
       "      <td>0</td>\n",
       "      <td>38190.78</td>\n",
       "      <td>0</td>\n",
       "    </tr>\n",
       "  </tbody>\n",
       "</table>\n",
       "</div>"
      ],
      "text/plain": [
       "      RowNumber  CustomerId    Surname  CreditScore Geography  Gender  Age  \\\n",
       "9995       9996    15606229   Obijiaku          771    France    Male   39   \n",
       "9996       9997    15569892  Johnstone          516    France    Male   35   \n",
       "9997       9998    15584532        Liu          709    France  Female   36   \n",
       "9998       9999    15682355  Sabbatini          772   Germany    Male   42   \n",
       "9999      10000    15628319     Walker          792    France  Female   28   \n",
       "\n",
       "      Tenure    Balance  NumOfProducts  HasCrCard  IsActiveMember  \\\n",
       "9995       5       0.00              2          1               0   \n",
       "9996      10   57369.61              1          1               1   \n",
       "9997       7       0.00              1          0               1   \n",
       "9998       3   75075.31              2          1               0   \n",
       "9999       4  130142.79              1          1               0   \n",
       "\n",
       "      EstimatedSalary  Exited  \n",
       "9995         96270.64       0  \n",
       "9996        101699.77       0  \n",
       "9997         42085.58       1  \n",
       "9998         92888.52       1  \n",
       "9999         38190.78       0  "
      ]
     },
     "execution_count": 10,
     "metadata": {},
     "output_type": "execute_result"
    }
   ],
   "source": [
    "df.tail()"
   ]
  },
  {
   "cell_type": "code",
   "execution_count": 11,
   "id": "e878d3f1",
   "metadata": {},
   "outputs": [
    {
     "name": "stdout",
     "output_type": "stream",
     "text": [
      "<class 'pandas.core.frame.DataFrame'>\n",
      "RangeIndex: 10000 entries, 0 to 9999\n",
      "Data columns (total 14 columns):\n",
      " #   Column           Non-Null Count  Dtype  \n",
      "---  ------           --------------  -----  \n",
      " 0   RowNumber        10000 non-null  int64  \n",
      " 1   CustomerId       10000 non-null  int64  \n",
      " 2   Surname          10000 non-null  object \n",
      " 3   CreditScore      10000 non-null  int64  \n",
      " 4   Geography        10000 non-null  object \n",
      " 5   Gender           10000 non-null  object \n",
      " 6   Age              10000 non-null  int64  \n",
      " 7   Tenure           10000 non-null  int64  \n",
      " 8   Balance          10000 non-null  float64\n",
      " 9   NumOfProducts    10000 non-null  int64  \n",
      " 10  HasCrCard        10000 non-null  int64  \n",
      " 11  IsActiveMember   10000 non-null  int64  \n",
      " 12  EstimatedSalary  10000 non-null  float64\n",
      " 13  Exited           10000 non-null  int64  \n",
      "dtypes: float64(2), int64(9), object(3)\n",
      "memory usage: 1.1+ MB\n"
     ]
    }
   ],
   "source": [
    "df.info()"
   ]
  },
  {
   "cell_type": "code",
   "execution_count": 12,
   "id": "85fb5d62",
   "metadata": {},
   "outputs": [
    {
     "data": {
      "text/plain": [
       "RowNumber          10000\n",
       "CustomerId         10000\n",
       "Surname             2932\n",
       "CreditScore          460\n",
       "Geography              3\n",
       "Gender                 2\n",
       "Age                   70\n",
       "Tenure                11\n",
       "Balance             6382\n",
       "NumOfProducts          4\n",
       "HasCrCard              2\n",
       "IsActiveMember         2\n",
       "EstimatedSalary     9999\n",
       "Exited                 2\n",
       "dtype: int64"
      ]
     },
     "execution_count": 12,
     "metadata": {},
     "output_type": "execute_result"
    }
   ],
   "source": [
    "df.nunique()"
   ]
  },
  {
   "cell_type": "code",
   "execution_count": 13,
   "id": "fdad27ea",
   "metadata": {},
   "outputs": [
    {
     "data": {
      "text/plain": [
       "0"
      ]
     },
     "execution_count": 13,
     "metadata": {},
     "output_type": "execute_result"
    }
   ],
   "source": [
    "df.duplicated().sum()"
   ]
  },
  {
   "cell_type": "code",
   "execution_count": 14,
   "id": "31c850d9",
   "metadata": {},
   "outputs": [
    {
     "name": "stdout",
     "output_type": "stream",
     "text": [
      "Columns with % of missing values > 0  are listed as : \n",
      "\n"
     ]
    },
    {
     "data": {
      "text/html": [
       "<style type=\"text/css\">\n",
       "</style>\n",
       "<table id=\"T_a3ca7\">\n",
       "  <thead>\n",
       "    <tr>\n",
       "      <th class=\"blank level0\" >&nbsp;</th>\n",
       "      <th id=\"T_a3ca7_level0_col0\" class=\"col_heading level0 col0\" >missing %</th>\n",
       "    </tr>\n",
       "  </thead>\n",
       "  <tbody>\n",
       "  </tbody>\n",
       "</table>\n"
      ],
      "text/plain": [
       "<pandas.io.formats.style.Styler at 0x23cef93b730>"
      ]
     },
     "execution_count": 14,
     "metadata": {},
     "output_type": "execute_result"
    }
   ],
   "source": [
    "df.style\n",
    "null_perc = 100*(df.isnull().sum()/len(df.index)) #Finding percentage of null values\n",
    "\n",
    "print(\"Columns with % of missing values > 0  are listed as : \\n\")\n",
    "\n",
    "pd.DataFrame(null_perc[ null_perc > 0 ], columns = ['missing %']).style.format(\"{:.2f}\").background_gradient() #Printing columns which have more than 0% missing values"
   ]
  },
  {
   "cell_type": "markdown",
   "id": "cbb3fbde",
   "metadata": {},
   "source": [
    "### Exploratory Data Analysis"
   ]
  },
  {
   "cell_type": "markdown",
   "id": "88f9548c",
   "metadata": {},
   "source": [
    "    -RowNumber and Surname are high cardinality variable, we will drop it from further analysis.\n",
    "    -CustomerId is set as index."
   ]
  },
  {
   "cell_type": "code",
   "execution_count": 15,
   "id": "1731cc79",
   "metadata": {},
   "outputs": [],
   "source": [
    "df.drop(columns=['RowNumber','Surname'], \n",
    "        inplace=True) # drop high cardinality columns"
   ]
  },
  {
   "cell_type": "code",
   "execution_count": 16,
   "id": "92a29a2b",
   "metadata": {},
   "outputs": [
    {
     "data": {
      "text/plain": [
       "(10000, 12)"
      ]
     },
     "execution_count": 16,
     "metadata": {},
     "output_type": "execute_result"
    }
   ],
   "source": [
    "df.shape"
   ]
  },
  {
   "cell_type": "code",
   "execution_count": 17,
   "id": "af107e7a",
   "metadata": {},
   "outputs": [],
   "source": [
    "df.set_index('CustomerId',\n",
    "             inplace=True) #reset index to Id"
   ]
  },
  {
   "cell_type": "code",
   "execution_count": 18,
   "id": "2be34d59",
   "metadata": {},
   "outputs": [
    {
     "data": {
      "text/html": [
       "<div>\n",
       "<style scoped>\n",
       "    .dataframe tbody tr th:only-of-type {\n",
       "        vertical-align: middle;\n",
       "    }\n",
       "\n",
       "    .dataframe tbody tr th {\n",
       "        vertical-align: top;\n",
       "    }\n",
       "\n",
       "    .dataframe thead th {\n",
       "        text-align: right;\n",
       "    }\n",
       "</style>\n",
       "<table border=\"1\" class=\"dataframe\">\n",
       "  <thead>\n",
       "    <tr style=\"text-align: right;\">\n",
       "      <th></th>\n",
       "      <th>CreditScore</th>\n",
       "      <th>Geography</th>\n",
       "      <th>Gender</th>\n",
       "      <th>Age</th>\n",
       "      <th>Tenure</th>\n",
       "      <th>Balance</th>\n",
       "      <th>NumOfProducts</th>\n",
       "      <th>HasCrCard</th>\n",
       "      <th>IsActiveMember</th>\n",
       "      <th>EstimatedSalary</th>\n",
       "      <th>Exited</th>\n",
       "    </tr>\n",
       "    <tr>\n",
       "      <th>CustomerId</th>\n",
       "      <th></th>\n",
       "      <th></th>\n",
       "      <th></th>\n",
       "      <th></th>\n",
       "      <th></th>\n",
       "      <th></th>\n",
       "      <th></th>\n",
       "      <th></th>\n",
       "      <th></th>\n",
       "      <th></th>\n",
       "      <th></th>\n",
       "    </tr>\n",
       "  </thead>\n",
       "  <tbody>\n",
       "    <tr>\n",
       "      <th>15634602</th>\n",
       "      <td>619</td>\n",
       "      <td>France</td>\n",
       "      <td>Female</td>\n",
       "      <td>42</td>\n",
       "      <td>2</td>\n",
       "      <td>0.00</td>\n",
       "      <td>1</td>\n",
       "      <td>1</td>\n",
       "      <td>1</td>\n",
       "      <td>101348.88</td>\n",
       "      <td>1</td>\n",
       "    </tr>\n",
       "    <tr>\n",
       "      <th>15647311</th>\n",
       "      <td>608</td>\n",
       "      <td>Spain</td>\n",
       "      <td>Female</td>\n",
       "      <td>41</td>\n",
       "      <td>1</td>\n",
       "      <td>83807.86</td>\n",
       "      <td>1</td>\n",
       "      <td>0</td>\n",
       "      <td>1</td>\n",
       "      <td>112542.58</td>\n",
       "      <td>0</td>\n",
       "    </tr>\n",
       "    <tr>\n",
       "      <th>15619304</th>\n",
       "      <td>502</td>\n",
       "      <td>France</td>\n",
       "      <td>Female</td>\n",
       "      <td>42</td>\n",
       "      <td>8</td>\n",
       "      <td>159660.80</td>\n",
       "      <td>3</td>\n",
       "      <td>1</td>\n",
       "      <td>0</td>\n",
       "      <td>113931.57</td>\n",
       "      <td>1</td>\n",
       "    </tr>\n",
       "    <tr>\n",
       "      <th>15701354</th>\n",
       "      <td>699</td>\n",
       "      <td>France</td>\n",
       "      <td>Female</td>\n",
       "      <td>39</td>\n",
       "      <td>1</td>\n",
       "      <td>0.00</td>\n",
       "      <td>2</td>\n",
       "      <td>0</td>\n",
       "      <td>0</td>\n",
       "      <td>93826.63</td>\n",
       "      <td>0</td>\n",
       "    </tr>\n",
       "    <tr>\n",
       "      <th>15737888</th>\n",
       "      <td>850</td>\n",
       "      <td>Spain</td>\n",
       "      <td>Female</td>\n",
       "      <td>43</td>\n",
       "      <td>2</td>\n",
       "      <td>125510.82</td>\n",
       "      <td>1</td>\n",
       "      <td>1</td>\n",
       "      <td>1</td>\n",
       "      <td>79084.10</td>\n",
       "      <td>0</td>\n",
       "    </tr>\n",
       "  </tbody>\n",
       "</table>\n",
       "</div>"
      ],
      "text/plain": [
       "            CreditScore Geography  Gender  Age  Tenure    Balance  \\\n",
       "CustomerId                                                          \n",
       "15634602            619    France  Female   42       2       0.00   \n",
       "15647311            608     Spain  Female   41       1   83807.86   \n",
       "15619304            502    France  Female   42       8  159660.80   \n",
       "15701354            699    France  Female   39       1       0.00   \n",
       "15737888            850     Spain  Female   43       2  125510.82   \n",
       "\n",
       "            NumOfProducts  HasCrCard  IsActiveMember  EstimatedSalary  Exited  \n",
       "CustomerId                                                                     \n",
       "15634602                1          1               1        101348.88       1  \n",
       "15647311                1          0               1        112542.58       0  \n",
       "15619304                3          1               0        113931.57       1  \n",
       "15701354                2          0               0         93826.63       0  \n",
       "15737888                1          1               1         79084.10       0  "
      ]
     },
     "execution_count": 18,
     "metadata": {},
     "output_type": "execute_result"
    }
   ],
   "source": [
    "df.head()"
   ]
  },
  {
   "cell_type": "markdown",
   "id": "d8133aa4",
   "metadata": {},
   "source": [
    "#### Dependent variable - Exited \n",
    "    - moderately imbalanced classes"
   ]
  },
  {
   "cell_type": "code",
   "execution_count": 19,
   "id": "ad0d38b7",
   "metadata": {},
   "outputs": [
    {
     "name": "stdout",
     "output_type": "stream",
     "text": [
      "---------------------------------------------------------------\n",
      "\n",
      "0    79.63\n",
      "1    20.37\n",
      "Name: Exited, dtype: float64\n",
      "---------------------------------------------------------------\n",
      "\n"
     ]
    },
    {
     "data": {
      "text/plain": [
       "<Axes: ylabel='Exited'>"
      ]
     },
     "execution_count": 19,
     "metadata": {},
     "output_type": "execute_result"
    },
    {
     "data": {
      "image/png": "[encoded data removed]",
      "text/plain": [
       "<Figure size 640x480 with 1 Axes>"
      ]
     },
     "metadata": {},
     "output_type": "display_data"
    }
   ],
   "source": [
    "value_count(df['Exited'])\n",
    "df['Exited'].value_counts().plot.pie() #pie plot"
   ]
  },
  {
   "cell_type": "markdown",
   "id": "af4dd231",
   "metadata": {},
   "source": [
    "#### Independent variable - Geography\n",
    "    - variable type  : nominal\n",
    "    - 32% of customers from Germany Geography exited"
   ]
  },
  {
   "cell_type": "code",
   "execution_count": 20,
   "id": "069cfb73",
   "metadata": {},
   "outputs": [
    {
     "name": "stdout",
     "output_type": "stream",
     "text": [
      "---------------------------------------------------------------\n",
      "\n",
      "France     50.14\n",
      "Germany    25.09\n",
      "Spain      24.77\n",
      "Name: Geography, dtype: float64\n",
      "---------------------------------------------------------------\n",
      "\n"
     ]
    },
    {
     "data": {
      "image/png": "[encoded data removed]",
      "text/plain": [
       "<Figure size 1800x1200 with 2 Axes>"
      ]
     },
     "metadata": {},
     "output_type": "display_data"
    },
    {
     "name": "stdout",
     "output_type": "stream",
     "text": [
      "***********************************\n",
      "Geography vs Exited %\n",
      "***********************************\n",
      "Exited         0      1\n",
      "Geography              \n",
      "France     83.85  16.15\n",
      "Germany    67.56  32.44\n",
      "Spain      83.33  16.67\n",
      "***********************************\n"
     ]
    }
   ],
   "source": [
    "value_count(df['Geography'])\n",
    "plot_uni_bi(df,'Geography')\n",
    "tabular_uni_bi(df,'Geography')"
   ]
  },
  {
   "cell_type": "markdown",
   "id": "c7a7faf0",
   "metadata": {},
   "source": [
    "#### Independent variable - Gender\n",
    "    - variable type  : nominal\n",
    "    - 25% of customers from Female category exited"
   ]
  },
  {
   "cell_type": "code",
   "execution_count": 21,
   "id": "2e3e897b",
   "metadata": {},
   "outputs": [
    {
     "name": "stdout",
     "output_type": "stream",
     "text": [
      "---------------------------------------------------------------\n",
      "\n",
      "Male      54.57\n",
      "Female    45.43\n",
      "Name: Gender, dtype: float64\n",
      "---------------------------------------------------------------\n",
      "\n"
     ]
    },
    {
     "data": {
      "image/png": "[encoded data removed]",
      "text/plain": [
       "<Figure size 1800x1200 with 2 Axes>"
      ]
     },
     "metadata": {},
     "output_type": "display_data"
    },
    {
     "name": "stdout",
     "output_type": "stream",
     "text": [
      "***********************************\n",
      "Gender vs Exited %\n",
      "***********************************\n",
      "Exited      0      1\n",
      "Gender              \n",
      "Female  74.93  25.07\n",
      "Male    83.54  16.46\n",
      "***********************************\n"
     ]
    }
   ],
   "source": [
    "value_count(df['Gender'])\n",
    "plot_uni_bi(df,'Gender')\n",
    "tabular_uni_bi(df,'Gender')"
   ]
  },
  {
   "cell_type": "code",
   "execution_count": 22,
   "id": "afed3e36",
   "metadata": {},
   "outputs": [],
   "source": [
    "# replace VERIFIED - income and VERIFIED- income source to 1 and not verified to 0\n",
    "df['Gender'] = np.where(df.Gender==\"Male\",0,1)"
   ]
  },
  {
   "cell_type": "code",
   "execution_count": 23,
   "id": "64799512",
   "metadata": {},
   "outputs": [
    {
     "data": {
      "text/html": [
       "<div>\n",
       "<style scoped>\n",
       "    .dataframe tbody tr th:only-of-type {\n",
       "        vertical-align: middle;\n",
       "    }\n",
       "\n",
       "    .dataframe tbody tr th {\n",
       "        vertical-align: top;\n",
       "    }\n",
       "\n",
       "    .dataframe thead th {\n",
       "        text-align: right;\n",
       "    }\n",
       "</style>\n",
       "<table border=\"1\" class=\"dataframe\">\n",
       "  <thead>\n",
       "    <tr style=\"text-align: right;\">\n",
       "      <th></th>\n",
       "      <th>CreditScore</th>\n",
       "      <th>Geography</th>\n",
       "      <th>Gender</th>\n",
       "      <th>Age</th>\n",
       "      <th>Tenure</th>\n",
       "      <th>Balance</th>\n",
       "      <th>NumOfProducts</th>\n",
       "      <th>HasCrCard</th>\n",
       "      <th>IsActiveMember</th>\n",
       "      <th>EstimatedSalary</th>\n",
       "      <th>Exited</th>\n",
       "    </tr>\n",
       "    <tr>\n",
       "      <th>CustomerId</th>\n",
       "      <th></th>\n",
       "      <th></th>\n",
       "      <th></th>\n",
       "      <th></th>\n",
       "      <th></th>\n",
       "      <th></th>\n",
       "      <th></th>\n",
       "      <th></th>\n",
       "      <th></th>\n",
       "      <th></th>\n",
       "      <th></th>\n",
       "    </tr>\n",
       "  </thead>\n",
       "  <tbody>\n",
       "    <tr>\n",
       "      <th>15634602</th>\n",
       "      <td>619</td>\n",
       "      <td>France</td>\n",
       "      <td>1</td>\n",
       "      <td>42</td>\n",
       "      <td>2</td>\n",
       "      <td>0.00</td>\n",
       "      <td>1</td>\n",
       "      <td>1</td>\n",
       "      <td>1</td>\n",
       "      <td>101348.88</td>\n",
       "      <td>1</td>\n",
       "    </tr>\n",
       "    <tr>\n",
       "      <th>15647311</th>\n",
       "      <td>608</td>\n",
       "      <td>Spain</td>\n",
       "      <td>1</td>\n",
       "      <td>41</td>\n",
       "      <td>1</td>\n",
       "      <td>83807.86</td>\n",
       "      <td>1</td>\n",
       "      <td>0</td>\n",
       "      <td>1</td>\n",
       "      <td>112542.58</td>\n",
       "      <td>0</td>\n",
       "    </tr>\n",
       "    <tr>\n",
       "      <th>15619304</th>\n",
       "      <td>502</td>\n",
       "      <td>France</td>\n",
       "      <td>1</td>\n",
       "      <td>42</td>\n",
       "      <td>8</td>\n",
       "      <td>159660.80</td>\n",
       "      <td>3</td>\n",
       "      <td>1</td>\n",
       "      <td>0</td>\n",
       "      <td>113931.57</td>\n",
       "      <td>1</td>\n",
       "    </tr>\n",
       "    <tr>\n",
       "      <th>15701354</th>\n",
       "      <td>699</td>\n",
       "      <td>France</td>\n",
       "      <td>1</td>\n",
       "      <td>39</td>\n",
       "      <td>1</td>\n",
       "      <td>0.00</td>\n",
       "      <td>2</td>\n",
       "      <td>0</td>\n",
       "      <td>0</td>\n",
       "      <td>93826.63</td>\n",
       "      <td>0</td>\n",
       "    </tr>\n",
       "    <tr>\n",
       "      <th>15737888</th>\n",
       "      <td>850</td>\n",
       "      <td>Spain</td>\n",
       "      <td>1</td>\n",
       "      <td>43</td>\n",
       "      <td>2</td>\n",
       "      <td>125510.82</td>\n",
       "      <td>1</td>\n",
       "      <td>1</td>\n",
       "      <td>1</td>\n",
       "      <td>79084.10</td>\n",
       "      <td>0</td>\n",
       "    </tr>\n",
       "  </tbody>\n",
       "</table>\n",
       "</div>"
      ],
      "text/plain": [
       "            CreditScore Geography  Gender  Age  Tenure    Balance  \\\n",
       "CustomerId                                                          \n",
       "15634602            619    France       1   42       2       0.00   \n",
       "15647311            608     Spain       1   41       1   83807.86   \n",
       "15619304            502    France       1   42       8  159660.80   \n",
       "15701354            699    France       1   39       1       0.00   \n",
       "15737888            850     Spain       1   43       2  125510.82   \n",
       "\n",
       "            NumOfProducts  HasCrCard  IsActiveMember  EstimatedSalary  Exited  \n",
       "CustomerId                                                                     \n",
       "15634602                1          1               1        101348.88       1  \n",
       "15647311                1          0               1        112542.58       0  \n",
       "15619304                3          1               0        113931.57       1  \n",
       "15701354                2          0               0         93826.63       0  \n",
       "15737888                1          1               1         79084.10       0  "
      ]
     },
     "execution_count": 23,
     "metadata": {},
     "output_type": "execute_result"
    }
   ],
   "source": [
    "df.head()"
   ]
  },
  {
   "cell_type": "markdown",
   "id": "4fcfc05f",
   "metadata": {},
   "source": [
    "#### Dependent variable - NumOfProducts\n",
    "    - cutomers with 3 and 4 number of products have high exit rate"
   ]
  },
  {
   "cell_type": "code",
   "execution_count": 24,
   "id": "b8ae5722",
   "metadata": {},
   "outputs": [
    {
     "name": "stdout",
     "output_type": "stream",
     "text": [
      "---------------------------------------------------------------\n",
      "\n",
      "1    50.84\n",
      "2    45.90\n",
      "3     2.66\n",
      "4     0.60\n",
      "Name: NumOfProducts, dtype: float64\n",
      "---------------------------------------------------------------\n",
      "\n"
     ]
    },
    {
     "data": {
      "image/png": "[encoded data removed]",
      "text/plain": [
       "<Figure size 1800x1200 with 2 Axes>"
      ]
     },
     "metadata": {},
     "output_type": "display_data"
    },
    {
     "name": "stdout",
     "output_type": "stream",
     "text": [
      "***********************************\n",
      "NumOfProducts vs Exited %\n",
      "***********************************\n",
      "Exited             0       1\n",
      "NumOfProducts               \n",
      "1              72.29   27.71\n",
      "2              92.42    7.58\n",
      "3              17.29   82.71\n",
      "4               0.00  100.00\n",
      "***********************************\n"
     ]
    }
   ],
   "source": [
    "value_count(df['NumOfProducts'])\n",
    "plot_uni_bi(df,'NumOfProducts')\n",
    "tabular_uni_bi(df,'NumOfProducts')"
   ]
  },
  {
   "cell_type": "code",
   "execution_count": 25,
   "id": "6d13bb6c",
   "metadata": {},
   "outputs": [],
   "source": [
    "#df[['NumOfProducts']] = df[['NumOfProducts']].apply(pd.to_)"
   ]
  },
  {
   "cell_type": "code",
   "execution_count": null,
   "id": "d4e22fbf",
   "metadata": {},
   "outputs": [],
   "source": []
  },
  {
   "cell_type": "markdown",
   "id": "642a8bf8",
   "metadata": {},
   "source": [
    "#### Dependent variable - HasCrCard\n",
    "    - variable type - nominal"
   ]
  },
  {
   "cell_type": "code",
   "execution_count": 26,
   "id": "78b6ac98",
   "metadata": {},
   "outputs": [
    {
     "name": "stdout",
     "output_type": "stream",
     "text": [
      "---------------------------------------------------------------\n",
      "\n",
      "1    70.55\n",
      "0    29.45\n",
      "Name: HasCrCard, dtype: float64\n",
      "---------------------------------------------------------------\n",
      "\n"
     ]
    },
    {
     "data": {
      "image/png": "[encoded data removed]",
      "text/plain": [
       "<Figure size 1800x1200 with 2 Axes>"
      ]
     },
     "metadata": {},
     "output_type": "display_data"
    },
    {
     "name": "stdout",
     "output_type": "stream",
     "text": [
      "***********************************\n",
      "HasCrCard vs Exited %\n",
      "***********************************\n",
      "Exited         0      1\n",
      "HasCrCard              \n",
      "0          79.19  20.81\n",
      "1          79.82  20.18\n",
      "***********************************\n"
     ]
    }
   ],
   "source": [
    "value_count(df['HasCrCard'])\n",
    "plot_uni_bi(df,'HasCrCard')\n",
    "tabular_uni_bi(df,'HasCrCard')"
   ]
  },
  {
   "cell_type": "markdown",
   "id": "b2cdf166",
   "metadata": {},
   "source": [
    "#### Dependent variable - IsActiveMember\n",
    "    - variable type - nominal"
   ]
  },
  {
   "cell_type": "code",
   "execution_count": 27,
   "id": "63e663f1",
   "metadata": {},
   "outputs": [
    {
     "name": "stdout",
     "output_type": "stream",
     "text": [
      "---------------------------------------------------------------\n",
      "\n",
      "1    51.51\n",
      "0    48.49\n",
      "Name: IsActiveMember, dtype: float64\n",
      "---------------------------------------------------------------\n",
      "\n"
     ]
    },
    {
     "data": {
      "image/png": "[encoded data removed]",
      "text/plain": [
       "<Figure size 1800x1200 with 2 Axes>"
      ]
     },
     "metadata": {},
     "output_type": "display_data"
    },
    {
     "name": "stdout",
     "output_type": "stream",
     "text": [
      "***********************************\n",
      "IsActiveMember vs Exited %\n",
      "***********************************\n",
      "Exited              0      1\n",
      "IsActiveMember              \n",
      "0               73.15  26.85\n",
      "1               85.73  14.27\n",
      "***********************************\n"
     ]
    }
   ],
   "source": [
    "value_count(df['IsActiveMember'])\n",
    "plot_uni_bi(df,'IsActiveMember')\n",
    "tabular_uni_bi(df,'IsActiveMember')"
   ]
  },
  {
   "cell_type": "markdown",
   "id": "b8af5dd1",
   "metadata": {},
   "source": [
    "#### Dependent variable - CreditScore\n",
    "    - variable type - int\n",
    "    - normally distributed\n",
    "    - Lower bound outliers present for exited customers\n",
    "    - 850 is the fixed upper bound value"
   ]
  },
  {
   "cell_type": "code",
   "execution_count": 28,
   "id": "f3055607",
   "metadata": {},
   "outputs": [
    {
     "data": {
      "text/plain": [
       "<Axes: xlabel='CreditScore', ylabel='Density'>"
      ]
     },
     "execution_count": 28,
     "metadata": {},
     "output_type": "execute_result"
    },
    {
     "data": {
      "image/png": "[encoded data removed]",
      "text/plain": [
       "<Figure size 640x480 with 1 Axes>"
      ]
     },
     "metadata": {},
     "output_type": "display_data"
    }
   ],
   "source": [
    "sns.distplot(df.CreditScore)"
   ]
  },
  {
   "cell_type": "code",
   "execution_count": 29,
   "id": "cff4107d",
   "metadata": {},
   "outputs": [
    {
     "data": {
      "text/plain": [
       "count    10000.000000\n",
       "mean       650.528800\n",
       "std         96.653299\n",
       "min        350.000000\n",
       "25%        584.000000\n",
       "50%        652.000000\n",
       "75%        718.000000\n",
       "max        850.000000\n",
       "Name: CreditScore, dtype: float64"
      ]
     },
     "execution_count": 29,
     "metadata": {},
     "output_type": "execute_result"
    }
   ],
   "source": [
    "df.CreditScore.describe()"
   ]
  },
  {
   "cell_type": "code",
   "execution_count": 30,
   "id": "53bc737b",
   "metadata": {},
   "outputs": [
    {
     "data": {
      "text/html": [
       "<div>\n",
       "<style scoped>\n",
       "    .dataframe tbody tr th:only-of-type {\n",
       "        vertical-align: middle;\n",
       "    }\n",
       "\n",
       "    .dataframe tbody tr th {\n",
       "        vertical-align: top;\n",
       "    }\n",
       "\n",
       "    .dataframe thead th {\n",
       "        text-align: right;\n",
       "    }\n",
       "</style>\n",
       "<table border=\"1\" class=\"dataframe\">\n",
       "  <thead>\n",
       "    <tr style=\"text-align: right;\">\n",
       "      <th></th>\n",
       "      <th>CreditScore</th>\n",
       "      <th>Geography</th>\n",
       "      <th>Gender</th>\n",
       "      <th>Age</th>\n",
       "      <th>Tenure</th>\n",
       "      <th>Balance</th>\n",
       "      <th>NumOfProducts</th>\n",
       "      <th>HasCrCard</th>\n",
       "      <th>IsActiveMember</th>\n",
       "      <th>EstimatedSalary</th>\n",
       "      <th>Exited</th>\n",
       "    </tr>\n",
       "    <tr>\n",
       "      <th>CustomerId</th>\n",
       "      <th></th>\n",
       "      <th></th>\n",
       "      <th></th>\n",
       "      <th></th>\n",
       "      <th></th>\n",
       "      <th></th>\n",
       "      <th></th>\n",
       "      <th></th>\n",
       "      <th></th>\n",
       "      <th></th>\n",
       "      <th></th>\n",
       "    </tr>\n",
       "  </thead>\n",
       "  <tbody>\n",
       "    <tr>\n",
       "      <th>15737888</th>\n",
       "      <td>850</td>\n",
       "      <td>Spain</td>\n",
       "      <td>1</td>\n",
       "      <td>43</td>\n",
       "      <td>2</td>\n",
       "      <td>125510.82</td>\n",
       "      <td>1</td>\n",
       "      <td>1</td>\n",
       "      <td>1</td>\n",
       "      <td>79084.10</td>\n",
       "      <td>0</td>\n",
       "    </tr>\n",
       "    <tr>\n",
       "      <th>15717426</th>\n",
       "      <td>850</td>\n",
       "      <td>France</td>\n",
       "      <td>0</td>\n",
       "      <td>36</td>\n",
       "      <td>7</td>\n",
       "      <td>0.00</td>\n",
       "      <td>1</td>\n",
       "      <td>1</td>\n",
       "      <td>1</td>\n",
       "      <td>40812.90</td>\n",
       "      <td>0</td>\n",
       "    </tr>\n",
       "    <tr>\n",
       "      <th>15716334</th>\n",
       "      <td>850</td>\n",
       "      <td>Spain</td>\n",
       "      <td>1</td>\n",
       "      <td>45</td>\n",
       "      <td>2</td>\n",
       "      <td>122311.21</td>\n",
       "      <td>1</td>\n",
       "      <td>1</td>\n",
       "      <td>1</td>\n",
       "      <td>19482.50</td>\n",
       "      <td>0</td>\n",
       "    </tr>\n",
       "    <tr>\n",
       "      <th>15604482</th>\n",
       "      <td>850</td>\n",
       "      <td>Spain</td>\n",
       "      <td>0</td>\n",
       "      <td>30</td>\n",
       "      <td>2</td>\n",
       "      <td>141040.01</td>\n",
       "      <td>1</td>\n",
       "      <td>1</td>\n",
       "      <td>1</td>\n",
       "      <td>5978.20</td>\n",
       "      <td>0</td>\n",
       "    </tr>\n",
       "    <tr>\n",
       "      <th>15733247</th>\n",
       "      <td>850</td>\n",
       "      <td>France</td>\n",
       "      <td>0</td>\n",
       "      <td>33</td>\n",
       "      <td>10</td>\n",
       "      <td>0.00</td>\n",
       "      <td>1</td>\n",
       "      <td>1</td>\n",
       "      <td>0</td>\n",
       "      <td>4861.72</td>\n",
       "      <td>1</td>\n",
       "    </tr>\n",
       "    <tr>\n",
       "      <th>...</th>\n",
       "      <td>...</td>\n",
       "      <td>...</td>\n",
       "      <td>...</td>\n",
       "      <td>...</td>\n",
       "      <td>...</td>\n",
       "      <td>...</td>\n",
       "      <td>...</td>\n",
       "      <td>...</td>\n",
       "      <td>...</td>\n",
       "      <td>...</td>\n",
       "      <td>...</td>\n",
       "    </tr>\n",
       "    <tr>\n",
       "      <th>15709256</th>\n",
       "      <td>850</td>\n",
       "      <td>France</td>\n",
       "      <td>1</td>\n",
       "      <td>28</td>\n",
       "      <td>9</td>\n",
       "      <td>0.00</td>\n",
       "      <td>2</td>\n",
       "      <td>1</td>\n",
       "      <td>1</td>\n",
       "      <td>164864.67</td>\n",
       "      <td>0</td>\n",
       "    </tr>\n",
       "    <tr>\n",
       "      <th>15603111</th>\n",
       "      <td>850</td>\n",
       "      <td>Spain</td>\n",
       "      <td>0</td>\n",
       "      <td>71</td>\n",
       "      <td>10</td>\n",
       "      <td>69608.14</td>\n",
       "      <td>1</td>\n",
       "      <td>1</td>\n",
       "      <td>0</td>\n",
       "      <td>97893.40</td>\n",
       "      <td>1</td>\n",
       "    </tr>\n",
       "    <tr>\n",
       "      <th>15730579</th>\n",
       "      <td>850</td>\n",
       "      <td>France</td>\n",
       "      <td>0</td>\n",
       "      <td>68</td>\n",
       "      <td>5</td>\n",
       "      <td>169445.40</td>\n",
       "      <td>1</td>\n",
       "      <td>1</td>\n",
       "      <td>1</td>\n",
       "      <td>186335.07</td>\n",
       "      <td>0</td>\n",
       "    </tr>\n",
       "    <tr>\n",
       "      <th>15647800</th>\n",
       "      <td>850</td>\n",
       "      <td>France</td>\n",
       "      <td>1</td>\n",
       "      <td>34</td>\n",
       "      <td>6</td>\n",
       "      <td>101266.51</td>\n",
       "      <td>1</td>\n",
       "      <td>1</td>\n",
       "      <td>0</td>\n",
       "      <td>33501.98</td>\n",
       "      <td>0</td>\n",
       "    </tr>\n",
       "    <tr>\n",
       "      <th>15798615</th>\n",
       "      <td>850</td>\n",
       "      <td>France</td>\n",
       "      <td>1</td>\n",
       "      <td>47</td>\n",
       "      <td>9</td>\n",
       "      <td>137301.87</td>\n",
       "      <td>1</td>\n",
       "      <td>1</td>\n",
       "      <td>0</td>\n",
       "      <td>44351.77</td>\n",
       "      <td>0</td>\n",
       "    </tr>\n",
       "  </tbody>\n",
       "</table>\n",
       "<p>233 rows × 11 columns</p>\n",
       "</div>"
      ],
      "text/plain": [
       "            CreditScore Geography  Gender  Age  Tenure    Balance  \\\n",
       "CustomerId                                                          \n",
       "15737888            850     Spain       1   43       2  125510.82   \n",
       "15717426            850    France       0   36       7       0.00   \n",
       "15716334            850     Spain       1   45       2  122311.21   \n",
       "15604482            850     Spain       0   30       2  141040.01   \n",
       "15733247            850    France       0   33      10       0.00   \n",
       "...                 ...       ...     ...  ...     ...        ...   \n",
       "15709256            850    France       1   28       9       0.00   \n",
       "15603111            850     Spain       0   71      10   69608.14   \n",
       "15730579            850    France       0   68       5  169445.40   \n",
       "15647800            850    France       1   34       6  101266.51   \n",
       "15798615            850    France       1   47       9  137301.87   \n",
       "\n",
       "            NumOfProducts  HasCrCard  IsActiveMember  EstimatedSalary  Exited  \n",
       "CustomerId                                                                     \n",
       "15737888                1          1               1         79084.10       0  \n",
       "15717426                1          1               1         40812.90       0  \n",
       "15716334                1          1               1         19482.50       0  \n",
       "15604482                1          1               1          5978.20       0  \n",
       "15733247                1          1               0          4861.72       1  \n",
       "...                   ...        ...             ...              ...     ...  \n",
       "15709256                2          1               1        164864.67       0  \n",
       "15603111                1          1               0         97893.40       1  \n",
       "15730579                1          1               1        186335.07       0  \n",
       "15647800                1          1               0         33501.98       0  \n",
       "15798615                1          1               0         44351.77       0  \n",
       "\n",
       "[233 rows x 11 columns]"
      ]
     },
     "execution_count": 30,
     "metadata": {},
     "output_type": "execute_result"
    }
   ],
   "source": [
    "df[df['CreditScore']>=850]"
   ]
  },
  {
   "cell_type": "code",
   "execution_count": 31,
   "id": "69e1e32f",
   "metadata": {},
   "outputs": [
    {
     "data": {
      "text/plain": [
       "<Axes: xlabel='Exited', ylabel='CreditScore'>"
      ]
     },
     "execution_count": 31,
     "metadata": {},
     "output_type": "execute_result"
    },
    {
     "data": {
      "image/png": "[encoded data removed]",
      "text/plain": [
       "<Figure size 640x480 with 1 Axes>"
      ]
     },
     "metadata": {},
     "output_type": "display_data"
    }
   ],
   "source": [
    "sns.boxplot(data=df, x='Exited', y='CreditScore')"
   ]
  },
  {
   "cell_type": "markdown",
   "id": "e5ddafd5",
   "metadata": {},
   "source": [
    "#### Dependent variable - Age\n",
    "    - variable type - int\n",
    "    - normally distributed with right skew\n",
    "    - Median age for exited customers is 55 which is 10 years less than non-exited customers.\n",
    "    - many outliers are present\n",
    "    - outlier treatment : bin the age and create a new variable age_bin \n",
    "    - drop Age as we have created a derived variable age_bin\n",
    " "
   ]
  },
  {
   "cell_type": "code",
   "execution_count": 32,
   "id": "b50af67e",
   "metadata": {},
   "outputs": [
    {
     "data": {
      "text/plain": [
       "<Axes: xlabel='Age', ylabel='Density'>"
      ]
     },
     "execution_count": 32,
     "metadata": {},
     "output_type": "execute_result"
    },
    {
     "data": {
      "image/png": "[encoded data removed]",
      "text/plain": [
       "<Figure size 640x480 with 1 Axes>"
      ]
     },
     "metadata": {},
     "output_type": "display_data"
    }
   ],
   "source": [
    "sns.distplot(df.Age)"
   ]
  },
  {
   "cell_type": "code",
   "execution_count": 33,
   "id": "28479337",
   "metadata": {},
   "outputs": [
    {
     "data": {
      "text/plain": [
       "<Axes: xlabel='Exited', ylabel='Age'>"
      ]
     },
     "execution_count": 33,
     "metadata": {},
     "output_type": "execute_result"
    },
    {
     "data": {
      "image/png": "[encoded data removed]",
      "text/plain": [
       "<Figure size 640x480 with 1 Axes>"
      ]
     },
     "metadata": {},
     "output_type": "display_data"
    }
   ],
   "source": [
    "sns.boxplot(data=df, x='Exited', y='Age')"
   ]
  },
  {
   "cell_type": "code",
   "execution_count": 34,
   "id": "8accc259",
   "metadata": {},
   "outputs": [
    {
     "data": {
      "text/plain": [
       "count    10000.000000\n",
       "mean        38.921800\n",
       "std         10.487806\n",
       "min         18.000000\n",
       "25%         32.000000\n",
       "50%         37.000000\n",
       "75%         44.000000\n",
       "max         92.000000\n",
       "Name: Age, dtype: float64"
      ]
     },
     "execution_count": 34,
     "metadata": {},
     "output_type": "execute_result"
    }
   ],
   "source": [
    "df.Age.describe()"
   ]
  },
  {
   "cell_type": "code",
   "execution_count": 35,
   "id": "2e5fa58a",
   "metadata": {},
   "outputs": [],
   "source": [
    "bins = [10, 20, 30, 40, 50, 60, 70, 100]\n",
    "df['age_bin'] = pd.cut(df['Age'], bins)"
   ]
  },
  {
   "cell_type": "code",
   "execution_count": 36,
   "id": "0831d351",
   "metadata": {},
   "outputs": [
    {
     "data": {
      "text/html": [
       "<div>\n",
       "<style scoped>\n",
       "    .dataframe tbody tr th:only-of-type {\n",
       "        vertical-align: middle;\n",
       "    }\n",
       "\n",
       "    .dataframe tbody tr th {\n",
       "        vertical-align: top;\n",
       "    }\n",
       "\n",
       "    .dataframe thead th {\n",
       "        text-align: right;\n",
       "    }\n",
       "</style>\n",
       "<table border=\"1\" class=\"dataframe\">\n",
       "  <thead>\n",
       "    <tr style=\"text-align: right;\">\n",
       "      <th></th>\n",
       "      <th>CreditScore</th>\n",
       "      <th>Geography</th>\n",
       "      <th>Gender</th>\n",
       "      <th>Age</th>\n",
       "      <th>Tenure</th>\n",
       "      <th>Balance</th>\n",
       "      <th>NumOfProducts</th>\n",
       "      <th>HasCrCard</th>\n",
       "      <th>IsActiveMember</th>\n",
       "      <th>EstimatedSalary</th>\n",
       "      <th>Exited</th>\n",
       "      <th>age_bin</th>\n",
       "    </tr>\n",
       "    <tr>\n",
       "      <th>CustomerId</th>\n",
       "      <th></th>\n",
       "      <th></th>\n",
       "      <th></th>\n",
       "      <th></th>\n",
       "      <th></th>\n",
       "      <th></th>\n",
       "      <th></th>\n",
       "      <th></th>\n",
       "      <th></th>\n",
       "      <th></th>\n",
       "      <th></th>\n",
       "      <th></th>\n",
       "    </tr>\n",
       "  </thead>\n",
       "  <tbody>\n",
       "    <tr>\n",
       "      <th>15805254</th>\n",
       "      <td>652</td>\n",
       "      <td>Spain</td>\n",
       "      <td>1</td>\n",
       "      <td>75</td>\n",
       "      <td>10</td>\n",
       "      <td>0.00</td>\n",
       "      <td>2</td>\n",
       "      <td>1</td>\n",
       "      <td>1</td>\n",
       "      <td>114675.75</td>\n",
       "      <td>0</td>\n",
       "      <td>(70, 100]</td>\n",
       "    </tr>\n",
       "    <tr>\n",
       "      <th>15589975</th>\n",
       "      <td>646</td>\n",
       "      <td>France</td>\n",
       "      <td>1</td>\n",
       "      <td>73</td>\n",
       "      <td>6</td>\n",
       "      <td>97259.25</td>\n",
       "      <td>1</td>\n",
       "      <td>0</td>\n",
       "      <td>1</td>\n",
       "      <td>104719.66</td>\n",
       "      <td>0</td>\n",
       "      <td>(70, 100]</td>\n",
       "    </tr>\n",
       "    <tr>\n",
       "      <th>15808473</th>\n",
       "      <td>673</td>\n",
       "      <td>France</td>\n",
       "      <td>0</td>\n",
       "      <td>72</td>\n",
       "      <td>1</td>\n",
       "      <td>0.00</td>\n",
       "      <td>2</td>\n",
       "      <td>0</td>\n",
       "      <td>1</td>\n",
       "      <td>111981.19</td>\n",
       "      <td>0</td>\n",
       "      <td>(70, 100]</td>\n",
       "    </tr>\n",
       "    <tr>\n",
       "      <th>15793726</th>\n",
       "      <td>681</td>\n",
       "      <td>France</td>\n",
       "      <td>1</td>\n",
       "      <td>79</td>\n",
       "      <td>0</td>\n",
       "      <td>0.00</td>\n",
       "      <td>2</td>\n",
       "      <td>0</td>\n",
       "      <td>1</td>\n",
       "      <td>170968.99</td>\n",
       "      <td>0</td>\n",
       "      <td>(70, 100]</td>\n",
       "    </tr>\n",
       "    <tr>\n",
       "      <th>15712287</th>\n",
       "      <td>652</td>\n",
       "      <td>France</td>\n",
       "      <td>1</td>\n",
       "      <td>80</td>\n",
       "      <td>4</td>\n",
       "      <td>0.00</td>\n",
       "      <td>2</td>\n",
       "      <td>1</td>\n",
       "      <td>1</td>\n",
       "      <td>188603.07</td>\n",
       "      <td>0</td>\n",
       "      <td>(70, 100]</td>\n",
       "    </tr>\n",
       "    <tr>\n",
       "      <th>...</th>\n",
       "      <td>...</td>\n",
       "      <td>...</td>\n",
       "      <td>...</td>\n",
       "      <td>...</td>\n",
       "      <td>...</td>\n",
       "      <td>...</td>\n",
       "      <td>...</td>\n",
       "      <td>...</td>\n",
       "      <td>...</td>\n",
       "      <td>...</td>\n",
       "      <td>...</td>\n",
       "      <td>...</td>\n",
       "    </tr>\n",
       "    <tr>\n",
       "      <th>15603111</th>\n",
       "      <td>850</td>\n",
       "      <td>Spain</td>\n",
       "      <td>0</td>\n",
       "      <td>71</td>\n",
       "      <td>10</td>\n",
       "      <td>69608.14</td>\n",
       "      <td>1</td>\n",
       "      <td>1</td>\n",
       "      <td>0</td>\n",
       "      <td>97893.40</td>\n",
       "      <td>1</td>\n",
       "      <td>(70, 100]</td>\n",
       "    </tr>\n",
       "    <tr>\n",
       "      <th>15636061</th>\n",
       "      <td>649</td>\n",
       "      <td>Germany</td>\n",
       "      <td>0</td>\n",
       "      <td>78</td>\n",
       "      <td>4</td>\n",
       "      <td>68345.86</td>\n",
       "      <td>2</td>\n",
       "      <td>1</td>\n",
       "      <td>1</td>\n",
       "      <td>142566.75</td>\n",
       "      <td>0</td>\n",
       "      <td>(70, 100]</td>\n",
       "    </tr>\n",
       "    <tr>\n",
       "      <th>15644103</th>\n",
       "      <td>659</td>\n",
       "      <td>Spain</td>\n",
       "      <td>0</td>\n",
       "      <td>78</td>\n",
       "      <td>2</td>\n",
       "      <td>151675.65</td>\n",
       "      <td>1</td>\n",
       "      <td>0</td>\n",
       "      <td>1</td>\n",
       "      <td>49978.67</td>\n",
       "      <td>0</td>\n",
       "      <td>(70, 100]</td>\n",
       "    </tr>\n",
       "    <tr>\n",
       "      <th>15704795</th>\n",
       "      <td>521</td>\n",
       "      <td>France</td>\n",
       "      <td>1</td>\n",
       "      <td>77</td>\n",
       "      <td>6</td>\n",
       "      <td>0.00</td>\n",
       "      <td>2</td>\n",
       "      <td>1</td>\n",
       "      <td>1</td>\n",
       "      <td>49054.10</td>\n",
       "      <td>0</td>\n",
       "      <td>(70, 100]</td>\n",
       "    </tr>\n",
       "    <tr>\n",
       "      <th>15653037</th>\n",
       "      <td>609</td>\n",
       "      <td>France</td>\n",
       "      <td>0</td>\n",
       "      <td>77</td>\n",
       "      <td>1</td>\n",
       "      <td>0.00</td>\n",
       "      <td>1</td>\n",
       "      <td>0</td>\n",
       "      <td>1</td>\n",
       "      <td>18708.76</td>\n",
       "      <td>0</td>\n",
       "      <td>(70, 100]</td>\n",
       "    </tr>\n",
       "  </tbody>\n",
       "</table>\n",
       "<p>133 rows × 12 columns</p>\n",
       "</div>"
      ],
      "text/plain": [
       "            CreditScore Geography  Gender  Age  Tenure    Balance  \\\n",
       "CustomerId                                                          \n",
       "15805254            652     Spain       1   75      10       0.00   \n",
       "15589975            646    France       1   73       6   97259.25   \n",
       "15808473            673    France       0   72       1       0.00   \n",
       "15793726            681    France       1   79       0       0.00   \n",
       "15712287            652    France       1   80       4       0.00   \n",
       "...                 ...       ...     ...  ...     ...        ...   \n",
       "15603111            850     Spain       0   71      10   69608.14   \n",
       "15636061            649   Germany       0   78       4   68345.86   \n",
       "15644103            659     Spain       0   78       2  151675.65   \n",
       "15704795            521    France       1   77       6       0.00   \n",
       "15653037            609    France       0   77       1       0.00   \n",
       "\n",
       "            NumOfProducts  HasCrCard  IsActiveMember  EstimatedSalary  Exited  \\\n",
       "CustomerId                                                                      \n",
       "15805254                2          1               1        114675.75       0   \n",
       "15589975                1          0               1        104719.66       0   \n",
       "15808473                2          0               1        111981.19       0   \n",
       "15793726                2          0               1        170968.99       0   \n",
       "15712287                2          1               1        188603.07       0   \n",
       "...                   ...        ...             ...              ...     ...   \n",
       "15603111                1          1               0         97893.40       1   \n",
       "15636061                2          1               1        142566.75       0   \n",
       "15644103                1          0               1         49978.67       0   \n",
       "15704795                2          1               1         49054.10       0   \n",
       "15653037                1          0               1         18708.76       0   \n",
       "\n",
       "              age_bin  \n",
       "CustomerId             \n",
       "15805254    (70, 100]  \n",
       "15589975    (70, 100]  \n",
       "15808473    (70, 100]  \n",
       "15793726    (70, 100]  \n",
       "15712287    (70, 100]  \n",
       "...               ...  \n",
       "15603111    (70, 100]  \n",
       "15636061    (70, 100]  \n",
       "15644103    (70, 100]  \n",
       "15704795    (70, 100]  \n",
       "15653037    (70, 100]  \n",
       "\n",
       "[133 rows x 12 columns]"
      ]
     },
     "execution_count": 36,
     "metadata": {},
     "output_type": "execute_result"
    }
   ],
   "source": [
    "df[df['Age']>70]"
   ]
  },
  {
   "cell_type": "code",
   "execution_count": 37,
   "id": "f750c476",
   "metadata": {},
   "outputs": [
    {
     "name": "stdout",
     "output_type": "stream",
     "text": [
      "---------------------------------------------------------------\n",
      "\n",
      "(30, 40]     44.51\n",
      "(40, 50]     23.20\n",
      "(20, 30]     18.79\n",
      "(50, 60]      7.97\n",
      "(60, 70]      3.31\n",
      "(70, 100]     1.33\n",
      "(10, 20]      0.89\n",
      "Name: age_bin, dtype: float64\n",
      "---------------------------------------------------------------\n",
      "\n"
     ]
    }
   ],
   "source": [
    "value_count(df['age_bin'])"
   ]
  },
  {
   "cell_type": "markdown",
   "id": "41bfde69",
   "metadata": {},
   "source": [
    "#### Dependent variable - Tenure\n",
    "    - variable type - int"
   ]
  },
  {
   "cell_type": "code",
   "execution_count": 38,
   "id": "b1a8d8fc",
   "metadata": {},
   "outputs": [
    {
     "data": {
      "text/plain": [
       "<Axes: xlabel='Tenure', ylabel='Density'>"
      ]
     },
     "execution_count": 38,
     "metadata": {},
     "output_type": "execute_result"
    },
    {
     "data": {
      "image/png": "[encoded data removed]",
      "text/plain": [
       "<Figure size 640x480 with 1 Axes>"
      ]
     },
     "metadata": {},
     "output_type": "display_data"
    }
   ],
   "source": [
    "sns.distplot(df.Tenure)"
   ]
  },
  {
   "cell_type": "code",
   "execution_count": null,
   "id": "bfe5e10e",
   "metadata": {},
   "outputs": [],
   "source": []
  },
  {
   "cell_type": "raw",
   "id": "f2e71c4a",
   "metadata": {},
   "source": []
  },
  {
   "cell_type": "code",
   "execution_count": null,
   "id": "bf548d9c",
   "metadata": {},
   "outputs": [],
   "source": []
  },
  {
   "cell_type": "code",
   "execution_count": 39,
   "id": "c7877e39",
   "metadata": {},
   "outputs": [
    {
     "name": "stdout",
     "output_type": "stream",
     "text": [
      "---------------------------------------------------------------\n",
      "\n",
      "2     10.48\n",
      "1     10.35\n",
      "7     10.28\n",
      "8     10.25\n",
      "5     10.12\n",
      "3     10.09\n",
      "4      9.89\n",
      "9      9.84\n",
      "6      9.67\n",
      "10     4.90\n",
      "0      4.13\n",
      "Name: Tenure, dtype: float64\n",
      "---------------------------------------------------------------\n",
      "\n"
     ]
    },
    {
     "data": {
      "image/png": "[encoded data removed]",
      "text/plain": [
       "<Figure size 1800x1200 with 2 Axes>"
      ]
     },
     "metadata": {},
     "output_type": "display_data"
    },
    {
     "name": "stdout",
     "output_type": "stream",
     "text": [
      "***********************************\n",
      "Tenure vs Exited %\n",
      "***********************************\n",
      "Exited      0      1\n",
      "Tenure              \n",
      "0       77.00  23.00\n",
      "1       77.58  22.42\n",
      "2       80.82  19.18\n",
      "3       78.89  21.11\n",
      "4       79.47  20.53\n",
      "5       79.35  20.65\n",
      "6       79.73  20.27\n",
      "7       82.78  17.22\n",
      "8       80.78  19.22\n",
      "9       78.35  21.65\n",
      "10      79.39  20.61\n",
      "***********************************\n"
     ]
    }
   ],
   "source": [
    "value_count(df['Tenure'])\n",
    "plot_uni_bi(df,'Tenure')\n",
    "tabular_uni_bi(df,'Tenure')"
   ]
  },
  {
   "cell_type": "code",
   "execution_count": null,
   "id": "6869da6e",
   "metadata": {},
   "outputs": [],
   "source": []
  },
  {
   "cell_type": "code",
   "execution_count": 40,
   "id": "4497a008",
   "metadata": {},
   "outputs": [
    {
     "data": {
      "text/plain": [
       "<Axes: xlabel='Balance', ylabel='Density'>"
      ]
     },
     "execution_count": 40,
     "metadata": {},
     "output_type": "execute_result"
    },
    {
     "data": {
      "image/png": "[encoded data removed]",
      "text/plain": [
       "<Figure size 640x480 with 1 Axes>"
      ]
     },
     "metadata": {},
     "output_type": "display_data"
    }
   ],
   "source": [
    "sns.distplot(df.Balance)"
   ]
  },
  {
   "cell_type": "code",
   "execution_count": 41,
   "id": "302ba75e",
   "metadata": {},
   "outputs": [
    {
     "data": {
      "text/plain": [
       "count     10000.000000\n",
       "mean      76485.889288\n",
       "std       62397.405202\n",
       "min           0.000000\n",
       "25%           0.000000\n",
       "50%       97198.540000\n",
       "75%      127644.240000\n",
       "max      250898.090000\n",
       "Name: Balance, dtype: float64"
      ]
     },
     "execution_count": 41,
     "metadata": {},
     "output_type": "execute_result"
    }
   ],
   "source": [
    "df.Balance.describe()"
   ]
  },
  {
   "cell_type": "code",
   "execution_count": 42,
   "id": "4be1ae0f",
   "metadata": {},
   "outputs": [
    {
     "data": {
      "text/plain": [
       "<Axes: xlabel='Exited', ylabel='Balance'>"
      ]
     },
     "execution_count": 42,
     "metadata": {},
     "output_type": "execute_result"
    },
    {
     "data": {
      "image/png": "[encoded data removed]",
      "text/plain": [
       "<Figure size 640x480 with 1 Axes>"
      ]
     },
     "metadata": {},
     "output_type": "display_data"
    }
   ],
   "source": [
    "sns.boxplot(data=df, x='Exited', y='Balance')"
   ]
  },
  {
   "cell_type": "code",
   "execution_count": null,
   "id": "be5e881c",
   "metadata": {},
   "outputs": [],
   "source": []
  },
  {
   "cell_type": "code",
   "execution_count": 43,
   "id": "48bb0bff",
   "metadata": {},
   "outputs": [
    {
     "data": {
      "text/plain": [
       "<Axes: xlabel='EstimatedSalary', ylabel='Density'>"
      ]
     },
     "execution_count": 43,
     "metadata": {},
     "output_type": "execute_result"
    },
    {
     "data": {
      "image/png": "[encoded data removed]",
      "text/plain": [
       "<Figure size 640x480 with 1 Axes>"
      ]
     },
     "metadata": {},
     "output_type": "display_data"
    }
   ],
   "source": [
    "sns.distplot(df.EstimatedSalary)"
   ]
  },
  {
   "cell_type": "code",
   "execution_count": 44,
   "id": "7e1f50a8",
   "metadata": {},
   "outputs": [
    {
     "data": {
      "text/plain": [
       "count     10000.000000\n",
       "mean     100090.239881\n",
       "std       57510.492818\n",
       "min          11.580000\n",
       "25%       51002.110000\n",
       "50%      100193.915000\n",
       "75%      149388.247500\n",
       "max      199992.480000\n",
       "Name: EstimatedSalary, dtype: float64"
      ]
     },
     "execution_count": 44,
     "metadata": {},
     "output_type": "execute_result"
    }
   ],
   "source": [
    "df.EstimatedSalary.describe()"
   ]
  },
  {
   "cell_type": "code",
   "execution_count": 45,
   "id": "bd34896e",
   "metadata": {},
   "outputs": [
    {
     "data": {
      "text/plain": [
       "<Axes: xlabel='Exited', ylabel='EstimatedSalary'>"
      ]
     },
     "execution_count": 45,
     "metadata": {},
     "output_type": "execute_result"
    },
    {
     "data": {
      "image/png": "[encoded data removed]",
      "text/plain": [
       "<Figure size 640x480 with 1 Axes>"
      ]
     },
     "metadata": {},
     "output_type": "display_data"
    }
   ],
   "source": [
    "sns.boxplot(data=df, x='Exited', y='EstimatedSalary')"
   ]
  },
  {
   "cell_type": "code",
   "execution_count": 46,
   "id": "3cf57097",
   "metadata": {},
   "outputs": [],
   "source": [
    "df['bal_to_sal'] = df.Balance/df.EstimatedSalary"
   ]
  },
  {
   "cell_type": "code",
   "execution_count": 47,
   "id": "237f51ea",
   "metadata": {},
   "outputs": [
    {
     "data": {
      "text/html": [
       "<div>\n",
       "<style scoped>\n",
       "    .dataframe tbody tr th:only-of-type {\n",
       "        vertical-align: middle;\n",
       "    }\n",
       "\n",
       "    .dataframe tbody tr th {\n",
       "        vertical-align: top;\n",
       "    }\n",
       "\n",
       "    .dataframe thead th {\n",
       "        text-align: right;\n",
       "    }\n",
       "</style>\n",
       "<table border=\"1\" class=\"dataframe\">\n",
       "  <thead>\n",
       "    <tr style=\"text-align: right;\">\n",
       "      <th></th>\n",
       "      <th>CreditScore</th>\n",
       "      <th>Geography</th>\n",
       "      <th>Gender</th>\n",
       "      <th>Age</th>\n",
       "      <th>Tenure</th>\n",
       "      <th>Balance</th>\n",
       "      <th>NumOfProducts</th>\n",
       "      <th>HasCrCard</th>\n",
       "      <th>IsActiveMember</th>\n",
       "      <th>EstimatedSalary</th>\n",
       "      <th>Exited</th>\n",
       "      <th>age_bin</th>\n",
       "      <th>bal_to_sal</th>\n",
       "    </tr>\n",
       "    <tr>\n",
       "      <th>CustomerId</th>\n",
       "      <th></th>\n",
       "      <th></th>\n",
       "      <th></th>\n",
       "      <th></th>\n",
       "      <th></th>\n",
       "      <th></th>\n",
       "      <th></th>\n",
       "      <th></th>\n",
       "      <th></th>\n",
       "      <th></th>\n",
       "      <th></th>\n",
       "      <th></th>\n",
       "      <th></th>\n",
       "    </tr>\n",
       "  </thead>\n",
       "  <tbody>\n",
       "    <tr>\n",
       "      <th>15634602</th>\n",
       "      <td>619</td>\n",
       "      <td>France</td>\n",
       "      <td>1</td>\n",
       "      <td>42</td>\n",
       "      <td>2</td>\n",
       "      <td>0.00</td>\n",
       "      <td>1</td>\n",
       "      <td>1</td>\n",
       "      <td>1</td>\n",
       "      <td>101348.88</td>\n",
       "      <td>1</td>\n",
       "      <td>(40, 50]</td>\n",
       "      <td>0.000000</td>\n",
       "    </tr>\n",
       "    <tr>\n",
       "      <th>15647311</th>\n",
       "      <td>608</td>\n",
       "      <td>Spain</td>\n",
       "      <td>1</td>\n",
       "      <td>41</td>\n",
       "      <td>1</td>\n",
       "      <td>83807.86</td>\n",
       "      <td>1</td>\n",
       "      <td>0</td>\n",
       "      <td>1</td>\n",
       "      <td>112542.58</td>\n",
       "      <td>0</td>\n",
       "      <td>(40, 50]</td>\n",
       "      <td>0.744677</td>\n",
       "    </tr>\n",
       "    <tr>\n",
       "      <th>15619304</th>\n",
       "      <td>502</td>\n",
       "      <td>France</td>\n",
       "      <td>1</td>\n",
       "      <td>42</td>\n",
       "      <td>8</td>\n",
       "      <td>159660.80</td>\n",
       "      <td>3</td>\n",
       "      <td>1</td>\n",
       "      <td>0</td>\n",
       "      <td>113931.57</td>\n",
       "      <td>1</td>\n",
       "      <td>(40, 50]</td>\n",
       "      <td>1.401375</td>\n",
       "    </tr>\n",
       "    <tr>\n",
       "      <th>15701354</th>\n",
       "      <td>699</td>\n",
       "      <td>France</td>\n",
       "      <td>1</td>\n",
       "      <td>39</td>\n",
       "      <td>1</td>\n",
       "      <td>0.00</td>\n",
       "      <td>2</td>\n",
       "      <td>0</td>\n",
       "      <td>0</td>\n",
       "      <td>93826.63</td>\n",
       "      <td>0</td>\n",
       "      <td>(30, 40]</td>\n",
       "      <td>0.000000</td>\n",
       "    </tr>\n",
       "    <tr>\n",
       "      <th>15737888</th>\n",
       "      <td>850</td>\n",
       "      <td>Spain</td>\n",
       "      <td>1</td>\n",
       "      <td>43</td>\n",
       "      <td>2</td>\n",
       "      <td>125510.82</td>\n",
       "      <td>1</td>\n",
       "      <td>1</td>\n",
       "      <td>1</td>\n",
       "      <td>79084.10</td>\n",
       "      <td>0</td>\n",
       "      <td>(40, 50]</td>\n",
       "      <td>1.587055</td>\n",
       "    </tr>\n",
       "  </tbody>\n",
       "</table>\n",
       "</div>"
      ],
      "text/plain": [
       "            CreditScore Geography  Gender  Age  Tenure    Balance  \\\n",
       "CustomerId                                                          \n",
       "15634602            619    France       1   42       2       0.00   \n",
       "15647311            608     Spain       1   41       1   83807.86   \n",
       "15619304            502    France       1   42       8  159660.80   \n",
       "15701354            699    France       1   39       1       0.00   \n",
       "15737888            850     Spain       1   43       2  125510.82   \n",
       "\n",
       "            NumOfProducts  HasCrCard  IsActiveMember  EstimatedSalary  Exited  \\\n",
       "CustomerId                                                                      \n",
       "15634602                1          1               1        101348.88       1   \n",
       "15647311                1          0               1        112542.58       0   \n",
       "15619304                3          1               0        113931.57       1   \n",
       "15701354                2          0               0         93826.63       0   \n",
       "15737888                1          1               1         79084.10       0   \n",
       "\n",
       "             age_bin  bal_to_sal  \n",
       "CustomerId                        \n",
       "15634602    (40, 50]    0.000000  \n",
       "15647311    (40, 50]    0.744677  \n",
       "15619304    (40, 50]    1.401375  \n",
       "15701354    (30, 40]    0.000000  \n",
       "15737888    (40, 50]    1.587055  "
      ]
     },
     "execution_count": 47,
     "metadata": {},
     "output_type": "execute_result"
    }
   ],
   "source": [
    "df.head()"
   ]
  },
  {
   "cell_type": "code",
   "execution_count": 48,
   "id": "f7648590",
   "metadata": {},
   "outputs": [],
   "source": [
    "df.drop(columns=['Age','Balance','EstimatedSalary'], \n",
    "        inplace=True) # drop high cardinality columns"
   ]
  },
  {
   "cell_type": "code",
   "execution_count": 49,
   "id": "bdff9606",
   "metadata": {},
   "outputs": [
    {
     "data": {
      "text/html": [
       "<div>\n",
       "<style scoped>\n",
       "    .dataframe tbody tr th:only-of-type {\n",
       "        vertical-align: middle;\n",
       "    }\n",
       "\n",
       "    .dataframe tbody tr th {\n",
       "        vertical-align: top;\n",
       "    }\n",
       "\n",
       "    .dataframe thead th {\n",
       "        text-align: right;\n",
       "    }\n",
       "</style>\n",
       "<table border=\"1\" class=\"dataframe\">\n",
       "  <thead>\n",
       "    <tr style=\"text-align: right;\">\n",
       "      <th></th>\n",
       "      <th>CreditScore</th>\n",
       "      <th>Geography</th>\n",
       "      <th>Gender</th>\n",
       "      <th>Tenure</th>\n",
       "      <th>NumOfProducts</th>\n",
       "      <th>HasCrCard</th>\n",
       "      <th>IsActiveMember</th>\n",
       "      <th>Exited</th>\n",
       "      <th>age_bin</th>\n",
       "      <th>bal_to_sal</th>\n",
       "    </tr>\n",
       "    <tr>\n",
       "      <th>CustomerId</th>\n",
       "      <th></th>\n",
       "      <th></th>\n",
       "      <th></th>\n",
       "      <th></th>\n",
       "      <th></th>\n",
       "      <th></th>\n",
       "      <th></th>\n",
       "      <th></th>\n",
       "      <th></th>\n",
       "      <th></th>\n",
       "    </tr>\n",
       "  </thead>\n",
       "  <tbody>\n",
       "    <tr>\n",
       "      <th>15634602</th>\n",
       "      <td>619</td>\n",
       "      <td>France</td>\n",
       "      <td>1</td>\n",
       "      <td>2</td>\n",
       "      <td>1</td>\n",
       "      <td>1</td>\n",
       "      <td>1</td>\n",
       "      <td>1</td>\n",
       "      <td>(40, 50]</td>\n",
       "      <td>0.000000</td>\n",
       "    </tr>\n",
       "    <tr>\n",
       "      <th>15647311</th>\n",
       "      <td>608</td>\n",
       "      <td>Spain</td>\n",
       "      <td>1</td>\n",
       "      <td>1</td>\n",
       "      <td>1</td>\n",
       "      <td>0</td>\n",
       "      <td>1</td>\n",
       "      <td>0</td>\n",
       "      <td>(40, 50]</td>\n",
       "      <td>0.744677</td>\n",
       "    </tr>\n",
       "    <tr>\n",
       "      <th>15619304</th>\n",
       "      <td>502</td>\n",
       "      <td>France</td>\n",
       "      <td>1</td>\n",
       "      <td>8</td>\n",
       "      <td>3</td>\n",
       "      <td>1</td>\n",
       "      <td>0</td>\n",
       "      <td>1</td>\n",
       "      <td>(40, 50]</td>\n",
       "      <td>1.401375</td>\n",
       "    </tr>\n",
       "    <tr>\n",
       "      <th>15701354</th>\n",
       "      <td>699</td>\n",
       "      <td>France</td>\n",
       "      <td>1</td>\n",
       "      <td>1</td>\n",
       "      <td>2</td>\n",
       "      <td>0</td>\n",
       "      <td>0</td>\n",
       "      <td>0</td>\n",
       "      <td>(30, 40]</td>\n",
       "      <td>0.000000</td>\n",
       "    </tr>\n",
       "    <tr>\n",
       "      <th>15737888</th>\n",
       "      <td>850</td>\n",
       "      <td>Spain</td>\n",
       "      <td>1</td>\n",
       "      <td>2</td>\n",
       "      <td>1</td>\n",
       "      <td>1</td>\n",
       "      <td>1</td>\n",
       "      <td>0</td>\n",
       "      <td>(40, 50]</td>\n",
       "      <td>1.587055</td>\n",
       "    </tr>\n",
       "  </tbody>\n",
       "</table>\n",
       "</div>"
      ],
      "text/plain": [
       "            CreditScore Geography  Gender  Tenure  NumOfProducts  HasCrCard  \\\n",
       "CustomerId                                                                    \n",
       "15634602            619    France       1       2              1          1   \n",
       "15647311            608     Spain       1       1              1          0   \n",
       "15619304            502    France       1       8              3          1   \n",
       "15701354            699    France       1       1              2          0   \n",
       "15737888            850     Spain       1       2              1          1   \n",
       "\n",
       "            IsActiveMember  Exited   age_bin  bal_to_sal  \n",
       "CustomerId                                                \n",
       "15634602                 1       1  (40, 50]    0.000000  \n",
       "15647311                 1       0  (40, 50]    0.744677  \n",
       "15619304                 0       1  (40, 50]    1.401375  \n",
       "15701354                 0       0  (30, 40]    0.000000  \n",
       "15737888                 1       0  (40, 50]    1.587055  "
      ]
     },
     "execution_count": 49,
     "metadata": {},
     "output_type": "execute_result"
    }
   ],
   "source": [
    "df.head()"
   ]
  },
  {
   "cell_type": "code",
   "execution_count": 50,
   "id": "febc5333",
   "metadata": {},
   "outputs": [
    {
     "data": {
      "text/html": [
       "<div>\n",
       "<style scoped>\n",
       "    .dataframe tbody tr th:only-of-type {\n",
       "        vertical-align: middle;\n",
       "    }\n",
       "\n",
       "    .dataframe tbody tr th {\n",
       "        vertical-align: top;\n",
       "    }\n",
       "\n",
       "    .dataframe thead th {\n",
       "        text-align: right;\n",
       "    }\n",
       "</style>\n",
       "<table border=\"1\" class=\"dataframe\">\n",
       "  <thead>\n",
       "    <tr style=\"text-align: right;\">\n",
       "      <th></th>\n",
       "      <th>Geography_Germany</th>\n",
       "      <th>Geography_Spain</th>\n",
       "      <th>age_bin_(20, 30]</th>\n",
       "      <th>age_bin_(30, 40]</th>\n",
       "      <th>age_bin_(40, 50]</th>\n",
       "      <th>age_bin_(50, 60]</th>\n",
       "      <th>age_bin_(60, 70]</th>\n",
       "      <th>age_bin_(70, 100]</th>\n",
       "    </tr>\n",
       "    <tr>\n",
       "      <th>CustomerId</th>\n",
       "      <th></th>\n",
       "      <th></th>\n",
       "      <th></th>\n",
       "      <th></th>\n",
       "      <th></th>\n",
       "      <th></th>\n",
       "      <th></th>\n",
       "      <th></th>\n",
       "    </tr>\n",
       "  </thead>\n",
       "  <tbody>\n",
       "    <tr>\n",
       "      <th>15634602</th>\n",
       "      <td>0</td>\n",
       "      <td>0</td>\n",
       "      <td>0</td>\n",
       "      <td>0</td>\n",
       "      <td>1</td>\n",
       "      <td>0</td>\n",
       "      <td>0</td>\n",
       "      <td>0</td>\n",
       "    </tr>\n",
       "    <tr>\n",
       "      <th>15647311</th>\n",
       "      <td>0</td>\n",
       "      <td>1</td>\n",
       "      <td>0</td>\n",
       "      <td>0</td>\n",
       "      <td>1</td>\n",
       "      <td>0</td>\n",
       "      <td>0</td>\n",
       "      <td>0</td>\n",
       "    </tr>\n",
       "    <tr>\n",
       "      <th>15619304</th>\n",
       "      <td>0</td>\n",
       "      <td>0</td>\n",
       "      <td>0</td>\n",
       "      <td>0</td>\n",
       "      <td>1</td>\n",
       "      <td>0</td>\n",
       "      <td>0</td>\n",
       "      <td>0</td>\n",
       "    </tr>\n",
       "    <tr>\n",
       "      <th>15701354</th>\n",
       "      <td>0</td>\n",
       "      <td>0</td>\n",
       "      <td>0</td>\n",
       "      <td>1</td>\n",
       "      <td>0</td>\n",
       "      <td>0</td>\n",
       "      <td>0</td>\n",
       "      <td>0</td>\n",
       "    </tr>\n",
       "    <tr>\n",
       "      <th>15737888</th>\n",
       "      <td>0</td>\n",
       "      <td>1</td>\n",
       "      <td>0</td>\n",
       "      <td>0</td>\n",
       "      <td>1</td>\n",
       "      <td>0</td>\n",
       "      <td>0</td>\n",
       "      <td>0</td>\n",
       "    </tr>\n",
       "    <tr>\n",
       "      <th>...</th>\n",
       "      <td>...</td>\n",
       "      <td>...</td>\n",
       "      <td>...</td>\n",
       "      <td>...</td>\n",
       "      <td>...</td>\n",
       "      <td>...</td>\n",
       "      <td>...</td>\n",
       "      <td>...</td>\n",
       "    </tr>\n",
       "    <tr>\n",
       "      <th>15606229</th>\n",
       "      <td>0</td>\n",
       "      <td>0</td>\n",
       "      <td>0</td>\n",
       "      <td>1</td>\n",
       "      <td>0</td>\n",
       "      <td>0</td>\n",
       "      <td>0</td>\n",
       "      <td>0</td>\n",
       "    </tr>\n",
       "    <tr>\n",
       "      <th>15569892</th>\n",
       "      <td>0</td>\n",
       "      <td>0</td>\n",
       "      <td>0</td>\n",
       "      <td>1</td>\n",
       "      <td>0</td>\n",
       "      <td>0</td>\n",
       "      <td>0</td>\n",
       "      <td>0</td>\n",
       "    </tr>\n",
       "    <tr>\n",
       "      <th>15584532</th>\n",
       "      <td>0</td>\n",
       "      <td>0</td>\n",
       "      <td>0</td>\n",
       "      <td>1</td>\n",
       "      <td>0</td>\n",
       "      <td>0</td>\n",
       "      <td>0</td>\n",
       "      <td>0</td>\n",
       "    </tr>\n",
       "    <tr>\n",
       "      <th>15682355</th>\n",
       "      <td>1</td>\n",
       "      <td>0</td>\n",
       "      <td>0</td>\n",
       "      <td>0</td>\n",
       "      <td>1</td>\n",
       "      <td>0</td>\n",
       "      <td>0</td>\n",
       "      <td>0</td>\n",
       "    </tr>\n",
       "    <tr>\n",
       "      <th>15628319</th>\n",
       "      <td>0</td>\n",
       "      <td>0</td>\n",
       "      <td>1</td>\n",
       "      <td>0</td>\n",
       "      <td>0</td>\n",
       "      <td>0</td>\n",
       "      <td>0</td>\n",
       "      <td>0</td>\n",
       "    </tr>\n",
       "  </tbody>\n",
       "</table>\n",
       "<p>10000 rows × 8 columns</p>\n",
       "</div>"
      ],
      "text/plain": [
       "            Geography_Germany  Geography_Spain  age_bin_(20, 30]  \\\n",
       "CustomerId                                                         \n",
       "15634602                    0                0                 0   \n",
       "15647311                    0                1                 0   \n",
       "15619304                    0                0                 0   \n",
       "15701354                    0                0                 0   \n",
       "15737888                    0                1                 0   \n",
       "...                       ...              ...               ...   \n",
       "15606229                    0                0                 0   \n",
       "15569892                    0                0                 0   \n",
       "15584532                    0                0                 0   \n",
       "15682355                    1                0                 0   \n",
       "15628319                    0                0                 1   \n",
       "\n",
       "            age_bin_(30, 40]  age_bin_(40, 50]  age_bin_(50, 60]  \\\n",
       "CustomerId                                                         \n",
       "15634602                   0                 1                 0   \n",
       "15647311                   0                 1                 0   \n",
       "15619304                   0                 1                 0   \n",
       "15701354                   1                 0                 0   \n",
       "15737888                   0                 1                 0   \n",
       "...                      ...               ...               ...   \n",
       "15606229                   1                 0                 0   \n",
       "15569892                   1                 0                 0   \n",
       "15584532                   1                 0                 0   \n",
       "15682355                   0                 1                 0   \n",
       "15628319                   0                 0                 0   \n",
       "\n",
       "            age_bin_(60, 70]  age_bin_(70, 100]  \n",
       "CustomerId                                       \n",
       "15634602                   0                  0  \n",
       "15647311                   0                  0  \n",
       "15619304                   0                  0  \n",
       "15701354                   0                  0  \n",
       "15737888                   0                  0  \n",
       "...                      ...                ...  \n",
       "15606229                   0                  0  \n",
       "15569892                   0                  0  \n",
       "15584532                   0                  0  \n",
       "15682355                   0                  0  \n",
       "15628319                   0                  0  \n",
       "\n",
       "[10000 rows x 8 columns]"
      ]
     },
     "execution_count": 50,
     "metadata": {},
     "output_type": "execute_result"
    }
   ],
   "source": [
    "dummy = pd.get_dummies(df[['Geography',\"age_bin\"]], drop_first=True)\n",
    "dummy"
   ]
  },
  {
   "cell_type": "code",
   "execution_count": 51,
   "id": "334e0aa0",
   "metadata": {},
   "outputs": [],
   "source": [
    "\n",
    "from sklearn.preprocessing import MinMaxScaler\n",
    "scaler = MinMaxScaler()\n"
   ]
  },
  {
   "cell_type": "code",
   "execution_count": 52,
   "id": "45b2f17c",
   "metadata": {},
   "outputs": [
    {
     "data": {
      "text/html": [
       "<div>\n",
       "<style scoped>\n",
       "    .dataframe tbody tr th:only-of-type {\n",
       "        vertical-align: middle;\n",
       "    }\n",
       "\n",
       "    .dataframe tbody tr th {\n",
       "        vertical-align: top;\n",
       "    }\n",
       "\n",
       "    .dataframe thead th {\n",
       "        text-align: right;\n",
       "    }\n",
       "</style>\n",
       "<table border=\"1\" class=\"dataframe\">\n",
       "  <thead>\n",
       "    <tr style=\"text-align: right;\">\n",
       "      <th></th>\n",
       "      <th>CreditScore</th>\n",
       "    </tr>\n",
       "    <tr>\n",
       "      <th>CustomerId</th>\n",
       "      <th></th>\n",
       "    </tr>\n",
       "  </thead>\n",
       "  <tbody>\n",
       "    <tr>\n",
       "      <th>15634602</th>\n",
       "      <td>0.538</td>\n",
       "    </tr>\n",
       "    <tr>\n",
       "      <th>15647311</th>\n",
       "      <td>0.516</td>\n",
       "    </tr>\n",
       "    <tr>\n",
       "      <th>15619304</th>\n",
       "      <td>0.304</td>\n",
       "    </tr>\n",
       "    <tr>\n",
       "      <th>15701354</th>\n",
       "      <td>0.698</td>\n",
       "    </tr>\n",
       "    <tr>\n",
       "      <th>15737888</th>\n",
       "      <td>1.000</td>\n",
       "    </tr>\n",
       "    <tr>\n",
       "      <th>...</th>\n",
       "      <td>...</td>\n",
       "    </tr>\n",
       "    <tr>\n",
       "      <th>15606229</th>\n",
       "      <td>0.842</td>\n",
       "    </tr>\n",
       "    <tr>\n",
       "      <th>15569892</th>\n",
       "      <td>0.332</td>\n",
       "    </tr>\n",
       "    <tr>\n",
       "      <th>15584532</th>\n",
       "      <td>0.718</td>\n",
       "    </tr>\n",
       "    <tr>\n",
       "      <th>15682355</th>\n",
       "      <td>0.844</td>\n",
       "    </tr>\n",
       "    <tr>\n",
       "      <th>15628319</th>\n",
       "      <td>0.884</td>\n",
       "    </tr>\n",
       "  </tbody>\n",
       "</table>\n",
       "<p>10000 rows × 1 columns</p>\n",
       "</div>"
      ],
      "text/plain": [
       "            CreditScore\n",
       "CustomerId             \n",
       "15634602          0.538\n",
       "15647311          0.516\n",
       "15619304          0.304\n",
       "15701354          0.698\n",
       "15737888          1.000\n",
       "...                 ...\n",
       "15606229          0.842\n",
       "15569892          0.332\n",
       "15584532          0.718\n",
       "15682355          0.844\n",
       "15628319          0.884\n",
       "\n",
       "[10000 rows x 1 columns]"
      ]
     },
     "execution_count": 52,
     "metadata": {},
     "output_type": "execute_result"
    }
   ],
   "source": [
    "num_vars = ['CreditScore']\n",
    "df_num = df[num_vars]\n",
    "df_num.head()\n",
    "df_num[num_vars] = scaler.fit_transform(df_num[num_vars])\n",
    "df_num"
   ]
  },
  {
   "cell_type": "code",
   "execution_count": null,
   "id": "7f5f256a",
   "metadata": {},
   "outputs": [],
   "source": []
  },
  {
   "cell_type": "code",
   "execution_count": null,
   "id": "51da716c",
   "metadata": {},
   "outputs": [],
   "source": []
  },
  {
   "cell_type": "code",
   "execution_count": null,
   "id": "50680ae9",
   "metadata": {},
   "outputs": [],
   "source": []
  },
  {
   "cell_type": "code",
   "execution_count": 53,
   "id": "64d8b097",
   "metadata": {},
   "outputs": [
    {
     "data": {
      "text/html": [
       "<div>\n",
       "<style scoped>\n",
       "    .dataframe tbody tr th:only-of-type {\n",
       "        vertical-align: middle;\n",
       "    }\n",
       "\n",
       "    .dataframe tbody tr th {\n",
       "        vertical-align: top;\n",
       "    }\n",
       "\n",
       "    .dataframe thead th {\n",
       "        text-align: right;\n",
       "    }\n",
       "</style>\n",
       "<table border=\"1\" class=\"dataframe\">\n",
       "  <thead>\n",
       "    <tr style=\"text-align: right;\">\n",
       "      <th></th>\n",
       "      <th>CreditScore</th>\n",
       "      <th>Geography</th>\n",
       "      <th>Gender</th>\n",
       "      <th>Tenure</th>\n",
       "      <th>NumOfProducts</th>\n",
       "      <th>HasCrCard</th>\n",
       "      <th>IsActiveMember</th>\n",
       "      <th>Exited</th>\n",
       "      <th>age_bin</th>\n",
       "      <th>bal_to_sal</th>\n",
       "    </tr>\n",
       "    <tr>\n",
       "      <th>CustomerId</th>\n",
       "      <th></th>\n",
       "      <th></th>\n",
       "      <th></th>\n",
       "      <th></th>\n",
       "      <th></th>\n",
       "      <th></th>\n",
       "      <th></th>\n",
       "      <th></th>\n",
       "      <th></th>\n",
       "      <th></th>\n",
       "    </tr>\n",
       "  </thead>\n",
       "  <tbody>\n",
       "    <tr>\n",
       "      <th>15634602</th>\n",
       "      <td>619</td>\n",
       "      <td>France</td>\n",
       "      <td>1</td>\n",
       "      <td>2</td>\n",
       "      <td>1</td>\n",
       "      <td>1</td>\n",
       "      <td>1</td>\n",
       "      <td>1</td>\n",
       "      <td>(40, 50]</td>\n",
       "      <td>0.000000</td>\n",
       "    </tr>\n",
       "    <tr>\n",
       "      <th>15647311</th>\n",
       "      <td>608</td>\n",
       "      <td>Spain</td>\n",
       "      <td>1</td>\n",
       "      <td>1</td>\n",
       "      <td>1</td>\n",
       "      <td>0</td>\n",
       "      <td>1</td>\n",
       "      <td>0</td>\n",
       "      <td>(40, 50]</td>\n",
       "      <td>0.744677</td>\n",
       "    </tr>\n",
       "    <tr>\n",
       "      <th>15619304</th>\n",
       "      <td>502</td>\n",
       "      <td>France</td>\n",
       "      <td>1</td>\n",
       "      <td>8</td>\n",
       "      <td>3</td>\n",
       "      <td>1</td>\n",
       "      <td>0</td>\n",
       "      <td>1</td>\n",
       "      <td>(40, 50]</td>\n",
       "      <td>1.401375</td>\n",
       "    </tr>\n",
       "    <tr>\n",
       "      <th>15701354</th>\n",
       "      <td>699</td>\n",
       "      <td>France</td>\n",
       "      <td>1</td>\n",
       "      <td>1</td>\n",
       "      <td>2</td>\n",
       "      <td>0</td>\n",
       "      <td>0</td>\n",
       "      <td>0</td>\n",
       "      <td>(30, 40]</td>\n",
       "      <td>0.000000</td>\n",
       "    </tr>\n",
       "    <tr>\n",
       "      <th>15737888</th>\n",
       "      <td>850</td>\n",
       "      <td>Spain</td>\n",
       "      <td>1</td>\n",
       "      <td>2</td>\n",
       "      <td>1</td>\n",
       "      <td>1</td>\n",
       "      <td>1</td>\n",
       "      <td>0</td>\n",
       "      <td>(40, 50]</td>\n",
       "      <td>1.587055</td>\n",
       "    </tr>\n",
       "    <tr>\n",
       "      <th>...</th>\n",
       "      <td>...</td>\n",
       "      <td>...</td>\n",
       "      <td>...</td>\n",
       "      <td>...</td>\n",
       "      <td>...</td>\n",
       "      <td>...</td>\n",
       "      <td>...</td>\n",
       "      <td>...</td>\n",
       "      <td>...</td>\n",
       "      <td>...</td>\n",
       "    </tr>\n",
       "    <tr>\n",
       "      <th>15606229</th>\n",
       "      <td>771</td>\n",
       "      <td>France</td>\n",
       "      <td>0</td>\n",
       "      <td>5</td>\n",
       "      <td>2</td>\n",
       "      <td>1</td>\n",
       "      <td>0</td>\n",
       "      <td>0</td>\n",
       "      <td>(30, 40]</td>\n",
       "      <td>0.000000</td>\n",
       "    </tr>\n",
       "    <tr>\n",
       "      <th>15569892</th>\n",
       "      <td>516</td>\n",
       "      <td>France</td>\n",
       "      <td>0</td>\n",
       "      <td>10</td>\n",
       "      <td>1</td>\n",
       "      <td>1</td>\n",
       "      <td>1</td>\n",
       "      <td>0</td>\n",
       "      <td>(30, 40]</td>\n",
       "      <td>0.564108</td>\n",
       "    </tr>\n",
       "    <tr>\n",
       "      <th>15584532</th>\n",
       "      <td>709</td>\n",
       "      <td>France</td>\n",
       "      <td>1</td>\n",
       "      <td>7</td>\n",
       "      <td>1</td>\n",
       "      <td>0</td>\n",
       "      <td>1</td>\n",
       "      <td>1</td>\n",
       "      <td>(30, 40]</td>\n",
       "      <td>0.000000</td>\n",
       "    </tr>\n",
       "    <tr>\n",
       "      <th>15682355</th>\n",
       "      <td>772</td>\n",
       "      <td>Germany</td>\n",
       "      <td>0</td>\n",
       "      <td>3</td>\n",
       "      <td>2</td>\n",
       "      <td>1</td>\n",
       "      <td>0</td>\n",
       "      <td>1</td>\n",
       "      <td>(40, 50]</td>\n",
       "      <td>0.808230</td>\n",
       "    </tr>\n",
       "    <tr>\n",
       "      <th>15628319</th>\n",
       "      <td>792</td>\n",
       "      <td>France</td>\n",
       "      <td>1</td>\n",
       "      <td>4</td>\n",
       "      <td>1</td>\n",
       "      <td>1</td>\n",
       "      <td>0</td>\n",
       "      <td>0</td>\n",
       "      <td>(20, 30]</td>\n",
       "      <td>3.407702</td>\n",
       "    </tr>\n",
       "  </tbody>\n",
       "</table>\n",
       "<p>10000 rows × 10 columns</p>\n",
       "</div>"
      ],
      "text/plain": [
       "            CreditScore Geography  Gender  Tenure  NumOfProducts  HasCrCard  \\\n",
       "CustomerId                                                                    \n",
       "15634602            619    France       1       2              1          1   \n",
       "15647311            608     Spain       1       1              1          0   \n",
       "15619304            502    France       1       8              3          1   \n",
       "15701354            699    France       1       1              2          0   \n",
       "15737888            850     Spain       1       2              1          1   \n",
       "...                 ...       ...     ...     ...            ...        ...   \n",
       "15606229            771    France       0       5              2          1   \n",
       "15569892            516    France       0      10              1          1   \n",
       "15584532            709    France       1       7              1          0   \n",
       "15682355            772   Germany       0       3              2          1   \n",
       "15628319            792    France       1       4              1          1   \n",
       "\n",
       "            IsActiveMember  Exited   age_bin  bal_to_sal  \n",
       "CustomerId                                                \n",
       "15634602                 1       1  (40, 50]    0.000000  \n",
       "15647311                 1       0  (40, 50]    0.744677  \n",
       "15619304                 0       1  (40, 50]    1.401375  \n",
       "15701354                 0       0  (30, 40]    0.000000  \n",
       "15737888                 1       0  (40, 50]    1.587055  \n",
       "...                    ...     ...       ...         ...  \n",
       "15606229                 0       0  (30, 40]    0.000000  \n",
       "15569892                 1       0  (30, 40]    0.564108  \n",
       "15584532                 1       1  (30, 40]    0.000000  \n",
       "15682355                 0       1  (40, 50]    0.808230  \n",
       "15628319                 0       0  (20, 30]    3.407702  \n",
       "\n",
       "[10000 rows x 10 columns]"
      ]
     },
     "execution_count": 53,
     "metadata": {},
     "output_type": "execute_result"
    }
   ],
   "source": [
    "df"
   ]
  },
  {
   "cell_type": "code",
   "execution_count": 54,
   "id": "b22a3e00",
   "metadata": {},
   "outputs": [],
   "source": [
    "X =  pd.concat([df[['Gender','Tenure','NumOfProducts','HasCrCard','IsActiveMember','bal_to_sal']],df_num, dummy], axis=1)\n"
   ]
  },
  {
   "cell_type": "code",
   "execution_count": 55,
   "id": "408696d7",
   "metadata": {},
   "outputs": [],
   "source": [
    "Y = df.Exited"
   ]
  },
  {
   "cell_type": "code",
   "execution_count": 56,
   "id": "87b093f5",
   "metadata": {},
   "outputs": [],
   "source": [
    "# Splitting the data into train(80%) and test(20%)\n",
    "X_train, X_test, y_train, y_test = train_test_split(X, Y, \n",
    "                                                    train_size=0.8, \n",
    "                                                    test_size=0.2, \n",
    "                                                    random_state=50)"
   ]
  },
  {
   "cell_type": "code",
   "execution_count": 57,
   "id": "12000340",
   "metadata": {},
   "outputs": [
    {
     "name": "stdout",
     "output_type": "stream",
     "text": [
      "X_train shape : (8000, 15)\n",
      "y_train shape : (8000,)\n",
      "X_test shape : (2000, 15)\n",
      "y_test shape : (2000,)\n"
     ]
    }
   ],
   "source": [
    "print(f'X_train shape : {X_train.shape}')\n",
    "print(f'y_train shape : {y_train.shape}')\n",
    "print(f'X_test shape : {X_test.shape}')\n",
    "print(f'y_test shape : {y_test.shape}')"
   ]
  },
  {
   "cell_type": "code",
   "execution_count": 58,
   "id": "b0a490cf",
   "metadata": {},
   "outputs": [
    {
     "name": "stdout",
     "output_type": "stream",
     "text": [
      "Optimization terminated successfully.\n",
      "         Current function value: 0.410578\n",
      "         Iterations 8\n"
     ]
    },
    {
     "data": {
      "text/html": [
       "<table class=\"simpletable\">\n",
       "<caption>Logit Regression Results</caption>\n",
       "<tr>\n",
       "  <th>Dep. Variable:</th>        <td>Exited</td>      <th>  No. Observations:  </th>  <td>  8000</td> \n",
       "</tr>\n",
       "<tr>\n",
       "  <th>Model:</th>                 <td>Logit</td>      <th>  Df Residuals:      </th>  <td>  7985</td> \n",
       "</tr>\n",
       "<tr>\n",
       "  <th>Method:</th>                 <td>MLE</td>       <th>  Df Model:          </th>  <td>    14</td> \n",
       "</tr>\n",
       "<tr>\n",
       "  <th>Date:</th>            <td>Sat, 05 Aug 2023</td> <th>  Pseudo R-squ.:     </th>  <td>0.1892</td> \n",
       "</tr>\n",
       "<tr>\n",
       "  <th>Time:</th>                <td>21:21:16</td>     <th>  Log-Likelihood:    </th> <td> -3284.6</td>\n",
       "</tr>\n",
       "<tr>\n",
       "  <th>converged:</th>             <td>True</td>       <th>  LL-Null:           </th> <td> -4051.3</td>\n",
       "</tr>\n",
       "<tr>\n",
       "  <th>Covariance Type:</th>     <td>nonrobust</td>    <th>  LLR p-value:       </th>  <td> 0.000</td> \n",
       "</tr>\n",
       "</table>\n",
       "<table class=\"simpletable\">\n",
       "<tr>\n",
       "          <td></td>             <th>coef</th>     <th>std err</th>      <th>z</th>      <th>P>|z|</th>  <th>[0.025</th>    <th>0.975]</th>  \n",
       "</tr>\n",
       "<tr>\n",
       "  <th>Gender</th>            <td>    0.4806</td> <td>    0.062</td> <td>    7.727</td> <td> 0.000</td> <td>    0.359</td> <td>    0.602</td>\n",
       "</tr>\n",
       "<tr>\n",
       "  <th>Tenure</th>            <td>   -0.0275</td> <td>    0.011</td> <td>   -2.600</td> <td> 0.009</td> <td>   -0.048</td> <td>   -0.007</td>\n",
       "</tr>\n",
       "<tr>\n",
       "  <th>NumOfProducts</th>     <td>   -0.2603</td> <td>    0.051</td> <td>   -5.124</td> <td> 0.000</td> <td>   -0.360</td> <td>   -0.161</td>\n",
       "</tr>\n",
       "<tr>\n",
       "  <th>HasCrCard</th>         <td>   -0.0586</td> <td>    0.067</td> <td>   -0.875</td> <td> 0.382</td> <td>   -0.190</td> <td>    0.073</td>\n",
       "</tr>\n",
       "<tr>\n",
       "  <th>IsActiveMember</th>    <td>   -1.0378</td> <td>    0.065</td> <td>  -15.890</td> <td> 0.000</td> <td>   -1.166</td> <td>   -0.910</td>\n",
       "</tr>\n",
       "<tr>\n",
       "  <th>bal_to_sal</th>        <td>    0.0014</td> <td>    0.001</td> <td>    0.952</td> <td> 0.341</td> <td>   -0.001</td> <td>    0.004</td>\n",
       "</tr>\n",
       "<tr>\n",
       "  <th>CreditScore</th>       <td>   -0.6273</td> <td>    0.152</td> <td>   -4.116</td> <td> 0.000</td> <td>   -0.926</td> <td>   -0.329</td>\n",
       "</tr>\n",
       "<tr>\n",
       "  <th>Geography_Germany</th> <td>    0.8750</td> <td>    0.072</td> <td>   12.214</td> <td> 0.000</td> <td>    0.735</td> <td>    1.015</td>\n",
       "</tr>\n",
       "<tr>\n",
       "  <th>Geography_Spain</th>   <td>    0.0293</td> <td>    0.080</td> <td>    0.368</td> <td> 0.713</td> <td>   -0.127</td> <td>    0.186</td>\n",
       "</tr>\n",
       "<tr>\n",
       "  <th>age_bin_(20, 30]</th>  <td>   -1.6284</td> <td>    0.164</td> <td>   -9.926</td> <td> 0.000</td> <td>   -1.950</td> <td>   -1.307</td>\n",
       "</tr>\n",
       "<tr>\n",
       "  <th>age_bin_(30, 40]</th>  <td>   -1.1379</td> <td>    0.141</td> <td>   -8.094</td> <td> 0.000</td> <td>   -1.413</td> <td>   -0.862</td>\n",
       "</tr>\n",
       "<tr>\n",
       "  <th>age_bin_(40, 50]</th>  <td>    0.2571</td> <td>    0.142</td> <td>    1.815</td> <td> 0.070</td> <td>   -0.021</td> <td>    0.535</td>\n",
       "</tr>\n",
       "<tr>\n",
       "  <th>age_bin_(50, 60]</th>  <td>    1.3207</td> <td>    0.160</td> <td>    8.233</td> <td> 0.000</td> <td>    1.006</td> <td>    1.635</td>\n",
       "</tr>\n",
       "<tr>\n",
       "  <th>age_bin_(60, 70]</th>  <td>    0.5174</td> <td>    0.195</td> <td>    2.651</td> <td> 0.008</td> <td>    0.135</td> <td>    0.900</td>\n",
       "</tr>\n",
       "<tr>\n",
       "  <th>age_bin_(70, 100]</th> <td>   -1.3042</td> <td>    0.401</td> <td>   -3.251</td> <td> 0.001</td> <td>   -2.091</td> <td>   -0.518</td>\n",
       "</tr>\n",
       "</table>"
      ],
      "text/plain": [
       "<class 'statsmodels.iolib.summary.Summary'>\n",
       "\"\"\"\n",
       "                           Logit Regression Results                           \n",
       "==============================================================================\n",
       "Dep. Variable:                 Exited   No. Observations:                 8000\n",
       "Model:                          Logit   Df Residuals:                     7985\n",
       "Method:                           MLE   Df Model:                           14\n",
       "Date:                Sat, 05 Aug 2023   Pseudo R-squ.:                  0.1892\n",
       "Time:                        21:21:16   Log-Likelihood:                -3284.6\n",
       "converged:                       True   LL-Null:                       -4051.3\n",
       "Covariance Type:            nonrobust   LLR p-value:                     0.000\n",
       "=====================================================================================\n",
       "                        coef    std err          z      P>|z|      [0.025      0.975]\n",
       "-------------------------------------------------------------------------------------\n",
       "Gender                0.4806      0.062      7.727      0.000       0.359       0.602\n",
       "Tenure               -0.0275      0.011     -2.600      0.009      -0.048      -0.007\n",
       "NumOfProducts        -0.2603      0.051     -5.124      0.000      -0.360      -0.161\n",
       "HasCrCard            -0.0586      0.067     -0.875      0.382      -0.190       0.073\n",
       "IsActiveMember       -1.0378      0.065    -15.890      0.000      -1.166      -0.910\n",
       "bal_to_sal            0.0014      0.001      0.952      0.341      -0.001       0.004\n",
       "CreditScore          -0.6273      0.152     -4.116      0.000      -0.926      -0.329\n",
       "Geography_Germany     0.8750      0.072     12.214      0.000       0.735       1.015\n",
       "Geography_Spain       0.0293      0.080      0.368      0.713      -0.127       0.186\n",
       "age_bin_(20, 30]     -1.6284      0.164     -9.926      0.000      -1.950      -1.307\n",
       "age_bin_(30, 40]     -1.1379      0.141     -8.094      0.000      -1.413      -0.862\n",
       "age_bin_(40, 50]      0.2571      0.142      1.815      0.070      -0.021       0.535\n",
       "age_bin_(50, 60]      1.3207      0.160      8.233      0.000       1.006       1.635\n",
       "age_bin_(60, 70]      0.5174      0.195      2.651      0.008       0.135       0.900\n",
       "age_bin_(70, 100]    -1.3042      0.401     -3.251      0.001      -2.091      -0.518\n",
       "=====================================================================================\n",
       "\"\"\""
      ]
     },
     "execution_count": 58,
     "metadata": {},
     "output_type": "execute_result"
    }
   ],
   "source": [
    "import statsmodels.api as sm\n",
    "model = sm.Logit(y_train,X_train )\n",
    "result = model.fit()\n",
    "result.summary()"
   ]
  },
  {
   "cell_type": "code",
   "execution_count": 59,
   "id": "0e7e9b62",
   "metadata": {},
   "outputs": [
    {
     "name": "stdout",
     "output_type": "stream",
     "text": [
      "VIF values are as:\n",
      "             Features   VIF\n",
      "10   age_bin_(30, 40]  9.74\n",
      "6         CreditScore  9.69\n",
      "2       NumOfProducts  7.58\n",
      "11   age_bin_(40, 50]  5.53\n",
      "9    age_bin_(20, 30]  4.80\n",
      "1              Tenure  3.92\n",
      "3           HasCrCard  3.31\n",
      "12   age_bin_(50, 60]  2.49\n",
      "4      IsActiveMember  2.10\n",
      "0              Gender  1.81\n",
      "13   age_bin_(60, 70]  1.64\n",
      "7   Geography_Germany  1.50\n",
      "8     Geography_Spain  1.49\n",
      "14  age_bin_(70, 100]  1.30\n",
      "5          bal_to_sal  1.00\n"
     ]
    }
   ],
   "source": [
    "vif_cal(X_train,X_train.columns)"
   ]
  },
  {
   "cell_type": "code",
   "execution_count": 60,
   "id": "40614bab",
   "metadata": {},
   "outputs": [],
   "source": [
    "X_train = X_train.drop(['age_bin_(30, 40]'], axis=1)"
   ]
  },
  {
   "cell_type": "code",
   "execution_count": 61,
   "id": "cf96b96a",
   "metadata": {},
   "outputs": [
    {
     "name": "stdout",
     "output_type": "stream",
     "text": [
      "Optimization terminated successfully.\n",
      "         Current function value: 0.414619\n",
      "         Iterations 8\n"
     ]
    },
    {
     "data": {
      "text/html": [
       "<table class=\"simpletable\">\n",
       "<caption>Logit Regression Results</caption>\n",
       "<tr>\n",
       "  <th>Dep. Variable:</th>        <td>Exited</td>      <th>  No. Observations:  </th>   <td>  8000</td>  \n",
       "</tr>\n",
       "<tr>\n",
       "  <th>Model:</th>                 <td>Logit</td>      <th>  Df Residuals:      </th>   <td>  7986</td>  \n",
       "</tr>\n",
       "<tr>\n",
       "  <th>Method:</th>                 <td>MLE</td>       <th>  Df Model:          </th>   <td>    13</td>  \n",
       "</tr>\n",
       "<tr>\n",
       "  <th>Date:</th>            <td>Sat, 05 Aug 2023</td> <th>  Pseudo R-squ.:     </th>   <td>0.1813</td>  \n",
       "</tr>\n",
       "<tr>\n",
       "  <th>Time:</th>                <td>21:21:16</td>     <th>  Log-Likelihood:    </th>  <td> -3316.9</td> \n",
       "</tr>\n",
       "<tr>\n",
       "  <th>converged:</th>             <td>True</td>       <th>  LL-Null:           </th>  <td> -4051.3</td> \n",
       "</tr>\n",
       "<tr>\n",
       "  <th>Covariance Type:</th>     <td>nonrobust</td>    <th>  LLR p-value:       </th> <td>2.500e-306</td>\n",
       "</tr>\n",
       "</table>\n",
       "<table class=\"simpletable\">\n",
       "<tr>\n",
       "          <td></td>             <th>coef</th>     <th>std err</th>      <th>z</th>      <th>P>|z|</th>  <th>[0.025</th>    <th>0.975]</th>  \n",
       "</tr>\n",
       "<tr>\n",
       "  <th>Gender</th>            <td>    0.3922</td> <td>    0.061</td> <td>    6.444</td> <td> 0.000</td> <td>    0.273</td> <td>    0.511</td>\n",
       "</tr>\n",
       "<tr>\n",
       "  <th>Tenure</th>            <td>   -0.0526</td> <td>    0.010</td> <td>   -5.232</td> <td> 0.000</td> <td>   -0.072</td> <td>   -0.033</td>\n",
       "</tr>\n",
       "<tr>\n",
       "  <th>NumOfProducts</th>     <td>   -0.4433</td> <td>    0.046</td> <td>   -9.610</td> <td> 0.000</td> <td>   -0.534</td> <td>   -0.353</td>\n",
       "</tr>\n",
       "<tr>\n",
       "  <th>HasCrCard</th>         <td>   -0.2112</td> <td>    0.063</td> <td>   -3.343</td> <td> 0.001</td> <td>   -0.335</td> <td>   -0.087</td>\n",
       "</tr>\n",
       "<tr>\n",
       "  <th>IsActiveMember</th>    <td>   -1.1116</td> <td>    0.064</td> <td>  -17.255</td> <td> 0.000</td> <td>   -1.238</td> <td>   -0.985</td>\n",
       "</tr>\n",
       "<tr>\n",
       "  <th>bal_to_sal</th>        <td>    0.0010</td> <td>    0.001</td> <td>    0.714</td> <td> 0.475</td> <td>   -0.002</td> <td>    0.004</td>\n",
       "</tr>\n",
       "<tr>\n",
       "  <th>CreditScore</th>       <td>   -1.2869</td> <td>    0.129</td> <td>   -9.947</td> <td> 0.000</td> <td>   -1.540</td> <td>   -1.033</td>\n",
       "</tr>\n",
       "<tr>\n",
       "  <th>Geography_Germany</th> <td>    0.7968</td> <td>    0.071</td> <td>   11.260</td> <td> 0.000</td> <td>    0.658</td> <td>    0.936</td>\n",
       "</tr>\n",
       "<tr>\n",
       "  <th>Geography_Spain</th>   <td>   -0.0569</td> <td>    0.079</td> <td>   -0.723</td> <td> 0.470</td> <td>   -0.211</td> <td>    0.097</td>\n",
       "</tr>\n",
       "<tr>\n",
       "  <th>age_bin_(20, 30]</th>  <td>   -0.6375</td> <td>    0.110</td> <td>   -5.799</td> <td> 0.000</td> <td>   -0.853</td> <td>   -0.422</td>\n",
       "</tr>\n",
       "<tr>\n",
       "  <th>age_bin_(40, 50]</th>  <td>    1.2654</td> <td>    0.072</td> <td>   17.622</td> <td> 0.000</td> <td>    1.125</td> <td>    1.406</td>\n",
       "</tr>\n",
       "<tr>\n",
       "  <th>age_bin_(50, 60]</th>  <td>    2.3476</td> <td>    0.104</td> <td>   22.597</td> <td> 0.000</td> <td>    2.144</td> <td>    2.551</td>\n",
       "</tr>\n",
       "<tr>\n",
       "  <th>age_bin_(60, 70]</th>  <td>    1.5292</td> <td>    0.154</td> <td>    9.943</td> <td> 0.000</td> <td>    1.228</td> <td>    1.831</td>\n",
       "</tr>\n",
       "<tr>\n",
       "  <th>age_bin_(70, 100]</th> <td>   -0.2688</td> <td>    0.383</td> <td>   -0.702</td> <td> 0.482</td> <td>   -1.019</td> <td>    0.481</td>\n",
       "</tr>\n",
       "</table>"
      ],
      "text/plain": [
       "<class 'statsmodels.iolib.summary.Summary'>\n",
       "\"\"\"\n",
       "                           Logit Regression Results                           \n",
       "==============================================================================\n",
       "Dep. Variable:                 Exited   No. Observations:                 8000\n",
       "Model:                          Logit   Df Residuals:                     7986\n",
       "Method:                           MLE   Df Model:                           13\n",
       "Date:                Sat, 05 Aug 2023   Pseudo R-squ.:                  0.1813\n",
       "Time:                        21:21:16   Log-Likelihood:                -3316.9\n",
       "converged:                       True   LL-Null:                       -4051.3\n",
       "Covariance Type:            nonrobust   LLR p-value:                2.500e-306\n",
       "=====================================================================================\n",
       "                        coef    std err          z      P>|z|      [0.025      0.975]\n",
       "-------------------------------------------------------------------------------------\n",
       "Gender                0.3922      0.061      6.444      0.000       0.273       0.511\n",
       "Tenure               -0.0526      0.010     -5.232      0.000      -0.072      -0.033\n",
       "NumOfProducts        -0.4433      0.046     -9.610      0.000      -0.534      -0.353\n",
       "HasCrCard            -0.2112      0.063     -3.343      0.001      -0.335      -0.087\n",
       "IsActiveMember       -1.1116      0.064    -17.255      0.000      -1.238      -0.985\n",
       "bal_to_sal            0.0010      0.001      0.714      0.475      -0.002       0.004\n",
       "CreditScore          -1.2869      0.129     -9.947      0.000      -1.540      -1.033\n",
       "Geography_Germany     0.7968      0.071     11.260      0.000       0.658       0.936\n",
       "Geography_Spain      -0.0569      0.079     -0.723      0.470      -0.211       0.097\n",
       "age_bin_(20, 30]     -0.6375      0.110     -5.799      0.000      -0.853      -0.422\n",
       "age_bin_(40, 50]      1.2654      0.072     17.622      0.000       1.125       1.406\n",
       "age_bin_(50, 60]      2.3476      0.104     22.597      0.000       2.144       2.551\n",
       "age_bin_(60, 70]      1.5292      0.154      9.943      0.000       1.228       1.831\n",
       "age_bin_(70, 100]    -0.2688      0.383     -0.702      0.482      -1.019       0.481\n",
       "=====================================================================================\n",
       "\"\"\""
      ]
     },
     "execution_count": 61,
     "metadata": {},
     "output_type": "execute_result"
    }
   ],
   "source": [
    "\n",
    "model1 = sm.Logit(y_train,X_train )\n",
    "result = model1.fit()\n",
    "result.summary()"
   ]
  },
  {
   "cell_type": "code",
   "execution_count": 62,
   "id": "79ed04b1",
   "metadata": {},
   "outputs": [
    {
     "name": "stdout",
     "output_type": "stream",
     "text": [
      "VIF values are as:\n",
      "             Features   VIF\n",
      "6         CreditScore  6.86\n",
      "2       NumOfProducts  6.01\n",
      "1              Tenure  3.57\n",
      "3           HasCrCard  3.04\n",
      "4      IsActiveMember  2.04\n",
      "0              Gender  1.76\n",
      "7   Geography_Germany  1.48\n",
      "8     Geography_Spain  1.47\n",
      "10   age_bin_(40, 50]  1.47\n",
      "9    age_bin_(20, 30]  1.39\n",
      "11   age_bin_(50, 60]  1.16\n",
      "12   age_bin_(60, 70]  1.07\n",
      "13  age_bin_(70, 100]  1.04\n",
      "5          bal_to_sal  1.00\n"
     ]
    }
   ],
   "source": [
    "vif_cal(X_train,X_train.columns)"
   ]
  },
  {
   "cell_type": "code",
   "execution_count": 63,
   "id": "26244cf0",
   "metadata": {},
   "outputs": [],
   "source": [
    "X_train = X_train.drop(['Geography_Spain'], axis=1)"
   ]
  },
  {
   "cell_type": "code",
   "execution_count": 64,
   "id": "4591a46c",
   "metadata": {},
   "outputs": [
    {
     "name": "stdout",
     "output_type": "stream",
     "text": [
      "Optimization terminated successfully.\n",
      "         Current function value: 0.414651\n",
      "         Iterations 8\n"
     ]
    },
    {
     "data": {
      "text/html": [
       "<table class=\"simpletable\">\n",
       "<caption>Logit Regression Results</caption>\n",
       "<tr>\n",
       "  <th>Dep. Variable:</th>        <td>Exited</td>      <th>  No. Observations:  </th>   <td>  8000</td>  \n",
       "</tr>\n",
       "<tr>\n",
       "  <th>Model:</th>                 <td>Logit</td>      <th>  Df Residuals:      </th>   <td>  7987</td>  \n",
       "</tr>\n",
       "<tr>\n",
       "  <th>Method:</th>                 <td>MLE</td>       <th>  Df Model:          </th>   <td>    12</td>  \n",
       "</tr>\n",
       "<tr>\n",
       "  <th>Date:</th>            <td>Sat, 05 Aug 2023</td> <th>  Pseudo R-squ.:     </th>   <td>0.1812</td>  \n",
       "</tr>\n",
       "<tr>\n",
       "  <th>Time:</th>                <td>21:21:17</td>     <th>  Log-Likelihood:    </th>  <td> -3317.2</td> \n",
       "</tr>\n",
       "<tr>\n",
       "  <th>converged:</th>             <td>True</td>       <th>  LL-Null:           </th>  <td> -4051.3</td> \n",
       "</tr>\n",
       "<tr>\n",
       "  <th>Covariance Type:</th>     <td>nonrobust</td>    <th>  LLR p-value:       </th> <td>2.869e-307</td>\n",
       "</tr>\n",
       "</table>\n",
       "<table class=\"simpletable\">\n",
       "<tr>\n",
       "          <td></td>             <th>coef</th>     <th>std err</th>      <th>z</th>      <th>P>|z|</th>  <th>[0.025</th>    <th>0.975]</th>  \n",
       "</tr>\n",
       "<tr>\n",
       "  <th>Gender</th>            <td>    0.3916</td> <td>    0.061</td> <td>    6.436</td> <td> 0.000</td> <td>    0.272</td> <td>    0.511</td>\n",
       "</tr>\n",
       "<tr>\n",
       "  <th>Tenure</th>            <td>   -0.0530</td> <td>    0.010</td> <td>   -5.281</td> <td> 0.000</td> <td>   -0.073</td> <td>   -0.033</td>\n",
       "</tr>\n",
       "<tr>\n",
       "  <th>NumOfProducts</th>     <td>   -0.4467</td> <td>    0.046</td> <td>   -9.729</td> <td> 0.000</td> <td>   -0.537</td> <td>   -0.357</td>\n",
       "</tr>\n",
       "<tr>\n",
       "  <th>HasCrCard</th>         <td>   -0.2132</td> <td>    0.063</td> <td>   -3.379</td> <td> 0.001</td> <td>   -0.337</td> <td>   -0.090</td>\n",
       "</tr>\n",
       "<tr>\n",
       "  <th>IsActiveMember</th>    <td>   -1.1132</td> <td>    0.064</td> <td>  -17.292</td> <td> 0.000</td> <td>   -1.239</td> <td>   -0.987</td>\n",
       "</tr>\n",
       "<tr>\n",
       "  <th>bal_to_sal</th>        <td>    0.0010</td> <td>    0.001</td> <td>    0.721</td> <td> 0.471</td> <td>   -0.002</td> <td>    0.004</td>\n",
       "</tr>\n",
       "<tr>\n",
       "  <th>CreditScore</th>       <td>   -1.2995</td> <td>    0.128</td> <td>  -10.132</td> <td> 0.000</td> <td>   -1.551</td> <td>   -1.048</td>\n",
       "</tr>\n",
       "<tr>\n",
       "  <th>Geography_Germany</th> <td>    0.8149</td> <td>    0.066</td> <td>   12.297</td> <td> 0.000</td> <td>    0.685</td> <td>    0.945</td>\n",
       "</tr>\n",
       "<tr>\n",
       "  <th>age_bin_(20, 30]</th>  <td>   -0.6388</td> <td>    0.110</td> <td>   -5.811</td> <td> 0.000</td> <td>   -0.854</td> <td>   -0.423</td>\n",
       "</tr>\n",
       "<tr>\n",
       "  <th>age_bin_(40, 50]</th>  <td>    1.2630</td> <td>    0.072</td> <td>   17.610</td> <td> 0.000</td> <td>    1.122</td> <td>    1.404</td>\n",
       "</tr>\n",
       "<tr>\n",
       "  <th>age_bin_(50, 60]</th>  <td>    2.3450</td> <td>    0.104</td> <td>   22.587</td> <td> 0.000</td> <td>    2.141</td> <td>    2.548</td>\n",
       "</tr>\n",
       "<tr>\n",
       "  <th>age_bin_(60, 70]</th>  <td>    1.5262</td> <td>    0.154</td> <td>    9.927</td> <td> 0.000</td> <td>    1.225</td> <td>    1.827</td>\n",
       "</tr>\n",
       "<tr>\n",
       "  <th>age_bin_(70, 100]</th> <td>   -0.2685</td> <td>    0.383</td> <td>   -0.702</td> <td> 0.483</td> <td>   -1.018</td> <td>    0.481</td>\n",
       "</tr>\n",
       "</table>"
      ],
      "text/plain": [
       "<class 'statsmodels.iolib.summary.Summary'>\n",
       "\"\"\"\n",
       "                           Logit Regression Results                           \n",
       "==============================================================================\n",
       "Dep. Variable:                 Exited   No. Observations:                 8000\n",
       "Model:                          Logit   Df Residuals:                     7987\n",
       "Method:                           MLE   Df Model:                           12\n",
       "Date:                Sat, 05 Aug 2023   Pseudo R-squ.:                  0.1812\n",
       "Time:                        21:21:17   Log-Likelihood:                -3317.2\n",
       "converged:                       True   LL-Null:                       -4051.3\n",
       "Covariance Type:            nonrobust   LLR p-value:                2.869e-307\n",
       "=====================================================================================\n",
       "                        coef    std err          z      P>|z|      [0.025      0.975]\n",
       "-------------------------------------------------------------------------------------\n",
       "Gender                0.3916      0.061      6.436      0.000       0.272       0.511\n",
       "Tenure               -0.0530      0.010     -5.281      0.000      -0.073      -0.033\n",
       "NumOfProducts        -0.4467      0.046     -9.729      0.000      -0.537      -0.357\n",
       "HasCrCard            -0.2132      0.063     -3.379      0.001      -0.337      -0.090\n",
       "IsActiveMember       -1.1132      0.064    -17.292      0.000      -1.239      -0.987\n",
       "bal_to_sal            0.0010      0.001      0.721      0.471      -0.002       0.004\n",
       "CreditScore          -1.2995      0.128    -10.132      0.000      -1.551      -1.048\n",
       "Geography_Germany     0.8149      0.066     12.297      0.000       0.685       0.945\n",
       "age_bin_(20, 30]     -0.6388      0.110     -5.811      0.000      -0.854      -0.423\n",
       "age_bin_(40, 50]      1.2630      0.072     17.610      0.000       1.122       1.404\n",
       "age_bin_(50, 60]      2.3450      0.104     22.587      0.000       2.141       2.548\n",
       "age_bin_(60, 70]      1.5262      0.154      9.927      0.000       1.225       1.827\n",
       "age_bin_(70, 100]    -0.2685      0.383     -0.702      0.483      -1.018       0.481\n",
       "=====================================================================================\n",
       "\"\"\""
      ]
     },
     "execution_count": 64,
     "metadata": {},
     "output_type": "execute_result"
    }
   ],
   "source": [
    "model2 = sm.Logit(y_train,X_train )\n",
    "result = model2.fit()\n",
    "result.summary()"
   ]
  },
  {
   "cell_type": "code",
   "execution_count": 65,
   "id": "f60e2afb",
   "metadata": {},
   "outputs": [],
   "source": [
    "X_train = X_train.drop(['age_bin_(70, 100]'], axis=1)"
   ]
  },
  {
   "cell_type": "code",
   "execution_count": 66,
   "id": "b51b42a2",
   "metadata": {},
   "outputs": [
    {
     "name": "stdout",
     "output_type": "stream",
     "text": [
      "Optimization terminated successfully.\n",
      "         Current function value: 0.414684\n",
      "         Iterations 8\n"
     ]
    },
    {
     "data": {
      "text/html": [
       "<table class=\"simpletable\">\n",
       "<caption>Logit Regression Results</caption>\n",
       "<tr>\n",
       "  <th>Dep. Variable:</th>        <td>Exited</td>      <th>  No. Observations:  </th>   <td>  8000</td>  \n",
       "</tr>\n",
       "<tr>\n",
       "  <th>Model:</th>                 <td>Logit</td>      <th>  Df Residuals:      </th>   <td>  7988</td>  \n",
       "</tr>\n",
       "<tr>\n",
       "  <th>Method:</th>                 <td>MLE</td>       <th>  Df Model:          </th>   <td>    11</td>  \n",
       "</tr>\n",
       "<tr>\n",
       "  <th>Date:</th>            <td>Sat, 05 Aug 2023</td> <th>  Pseudo R-squ.:     </th>   <td>0.1811</td>  \n",
       "</tr>\n",
       "<tr>\n",
       "  <th>Time:</th>                <td>21:21:17</td>     <th>  Log-Likelihood:    </th>  <td> -3317.5</td> \n",
       "</tr>\n",
       "<tr>\n",
       "  <th>converged:</th>             <td>True</td>       <th>  LL-Null:           </th>  <td> -4051.3</td> \n",
       "</tr>\n",
       "<tr>\n",
       "  <th>Covariance Type:</th>     <td>nonrobust</td>    <th>  LLR p-value:       </th> <td>3.150e-308</td>\n",
       "</tr>\n",
       "</table>\n",
       "<table class=\"simpletable\">\n",
       "<tr>\n",
       "          <td></td>             <th>coef</th>     <th>std err</th>      <th>z</th>      <th>P>|z|</th>  <th>[0.025</th>    <th>0.975]</th>  \n",
       "</tr>\n",
       "<tr>\n",
       "  <th>Gender</th>            <td>    0.3910</td> <td>    0.061</td> <td>    6.425</td> <td> 0.000</td> <td>    0.272</td> <td>    0.510</td>\n",
       "</tr>\n",
       "<tr>\n",
       "  <th>Tenure</th>            <td>   -0.0532</td> <td>    0.010</td> <td>   -5.299</td> <td> 0.000</td> <td>   -0.073</td> <td>   -0.034</td>\n",
       "</tr>\n",
       "<tr>\n",
       "  <th>NumOfProducts</th>     <td>   -0.4469</td> <td>    0.046</td> <td>   -9.734</td> <td> 0.000</td> <td>   -0.537</td> <td>   -0.357</td>\n",
       "</tr>\n",
       "<tr>\n",
       "  <th>HasCrCard</th>         <td>   -0.2143</td> <td>    0.063</td> <td>   -3.397</td> <td> 0.001</td> <td>   -0.338</td> <td>   -0.091</td>\n",
       "</tr>\n",
       "<tr>\n",
       "  <th>IsActiveMember</th>    <td>   -1.1173</td> <td>    0.064</td> <td>  -17.417</td> <td> 0.000</td> <td>   -1.243</td> <td>   -0.992</td>\n",
       "</tr>\n",
       "<tr>\n",
       "  <th>bal_to_sal</th>        <td>    0.0010</td> <td>    0.001</td> <td>    0.723</td> <td> 0.469</td> <td>   -0.002</td> <td>    0.004</td>\n",
       "</tr>\n",
       "<tr>\n",
       "  <th>CreditScore</th>       <td>   -1.3012</td> <td>    0.128</td> <td>  -10.146</td> <td> 0.000</td> <td>   -1.553</td> <td>   -1.050</td>\n",
       "</tr>\n",
       "<tr>\n",
       "  <th>Geography_Germany</th> <td>    0.8138</td> <td>    0.066</td> <td>   12.284</td> <td> 0.000</td> <td>    0.684</td> <td>    0.944</td>\n",
       "</tr>\n",
       "<tr>\n",
       "  <th>age_bin_(20, 30]</th>  <td>   -0.6340</td> <td>    0.110</td> <td>   -5.777</td> <td> 0.000</td> <td>   -0.849</td> <td>   -0.419</td>\n",
       "</tr>\n",
       "<tr>\n",
       "  <th>age_bin_(40, 50]</th>  <td>    1.2682</td> <td>    0.071</td> <td>   17.761</td> <td> 0.000</td> <td>    1.128</td> <td>    1.408</td>\n",
       "</tr>\n",
       "<tr>\n",
       "  <th>age_bin_(50, 60]</th>  <td>    2.3511</td> <td>    0.104</td> <td>   22.713</td> <td> 0.000</td> <td>    2.148</td> <td>    2.554</td>\n",
       "</tr>\n",
       "<tr>\n",
       "  <th>age_bin_(60, 70]</th>  <td>    1.5325</td> <td>    0.154</td> <td>    9.981</td> <td> 0.000</td> <td>    1.232</td> <td>    1.833</td>\n",
       "</tr>\n",
       "</table>"
      ],
      "text/plain": [
       "<class 'statsmodels.iolib.summary.Summary'>\n",
       "\"\"\"\n",
       "                           Logit Regression Results                           \n",
       "==============================================================================\n",
       "Dep. Variable:                 Exited   No. Observations:                 8000\n",
       "Model:                          Logit   Df Residuals:                     7988\n",
       "Method:                           MLE   Df Model:                           11\n",
       "Date:                Sat, 05 Aug 2023   Pseudo R-squ.:                  0.1811\n",
       "Time:                        21:21:17   Log-Likelihood:                -3317.5\n",
       "converged:                       True   LL-Null:                       -4051.3\n",
       "Covariance Type:            nonrobust   LLR p-value:                3.150e-308\n",
       "=====================================================================================\n",
       "                        coef    std err          z      P>|z|      [0.025      0.975]\n",
       "-------------------------------------------------------------------------------------\n",
       "Gender                0.3910      0.061      6.425      0.000       0.272       0.510\n",
       "Tenure               -0.0532      0.010     -5.299      0.000      -0.073      -0.034\n",
       "NumOfProducts        -0.4469      0.046     -9.734      0.000      -0.537      -0.357\n",
       "HasCrCard            -0.2143      0.063     -3.397      0.001      -0.338      -0.091\n",
       "IsActiveMember       -1.1173      0.064    -17.417      0.000      -1.243      -0.992\n",
       "bal_to_sal            0.0010      0.001      0.723      0.469      -0.002       0.004\n",
       "CreditScore          -1.3012      0.128    -10.146      0.000      -1.553      -1.050\n",
       "Geography_Germany     0.8138      0.066     12.284      0.000       0.684       0.944\n",
       "age_bin_(20, 30]     -0.6340      0.110     -5.777      0.000      -0.849      -0.419\n",
       "age_bin_(40, 50]      1.2682      0.071     17.761      0.000       1.128       1.408\n",
       "age_bin_(50, 60]      2.3511      0.104     22.713      0.000       2.148       2.554\n",
       "age_bin_(60, 70]      1.5325      0.154      9.981      0.000       1.232       1.833\n",
       "=====================================================================================\n",
       "\"\"\""
      ]
     },
     "execution_count": 66,
     "metadata": {},
     "output_type": "execute_result"
    }
   ],
   "source": [
    "model3 = sm.Logit(y_train,X_train )\n",
    "result = model3.fit()\n",
    "result.summary()"
   ]
  },
  {
   "cell_type": "code",
   "execution_count": 67,
   "id": "3b36660f",
   "metadata": {},
   "outputs": [],
   "source": [
    "X_train = X_train.drop(['bal_to_sal'], axis=1)"
   ]
  },
  {
   "cell_type": "code",
   "execution_count": 69,
   "id": "501cfcf3",
   "metadata": {},
   "outputs": [
    {
     "name": "stdout",
     "output_type": "stream",
     "text": [
      "Optimization terminated successfully.\n",
      "         Current function value: 0.414869\n",
      "         Iterations 7\n"
     ]
    },
    {
     "data": {
      "text/html": [
       "<table class=\"simpletable\">\n",
       "<caption>Logit Regression Results</caption>\n",
       "<tr>\n",
       "  <th>Dep. Variable:</th>        <td>Exited</td>      <th>  No. Observations:  </th>   <td>  8000</td>  \n",
       "</tr>\n",
       "<tr>\n",
       "  <th>Model:</th>                 <td>Logit</td>      <th>  Df Residuals:      </th>   <td>  7989</td>  \n",
       "</tr>\n",
       "<tr>\n",
       "  <th>Method:</th>                 <td>MLE</td>       <th>  Df Model:          </th>   <td>    10</td>  \n",
       "</tr>\n",
       "<tr>\n",
       "  <th>Date:</th>            <td>Sat, 05 Aug 2023</td> <th>  Pseudo R-squ.:     </th>   <td>0.1808</td>  \n",
       "</tr>\n",
       "<tr>\n",
       "  <th>Time:</th>                <td>21:21:25</td>     <th>  Log-Likelihood:    </th>  <td> -3319.0</td> \n",
       "</tr>\n",
       "<tr>\n",
       "  <th>converged:</th>             <td>True</td>       <th>  LL-Null:           </th>  <td> -4051.3</td> \n",
       "</tr>\n",
       "<tr>\n",
       "  <th>Covariance Type:</th>     <td>nonrobust</td>    <th>  LLR p-value:       </th> <td>1.104e-308</td>\n",
       "</tr>\n",
       "</table>\n",
       "<table class=\"simpletable\">\n",
       "<tr>\n",
       "          <td></td>             <th>coef</th>     <th>std err</th>      <th>z</th>      <th>P>|z|</th>  <th>[0.025</th>    <th>0.975]</th>  \n",
       "</tr>\n",
       "<tr>\n",
       "  <th>Gender</th>            <td>    0.3897</td> <td>    0.061</td> <td>    6.407</td> <td> 0.000</td> <td>    0.270</td> <td>    0.509</td>\n",
       "</tr>\n",
       "<tr>\n",
       "  <th>Tenure</th>            <td>   -0.0531</td> <td>    0.010</td> <td>   -5.289</td> <td> 0.000</td> <td>   -0.073</td> <td>   -0.033</td>\n",
       "</tr>\n",
       "<tr>\n",
       "  <th>NumOfProducts</th>     <td>   -0.4488</td> <td>    0.046</td> <td>   -9.778</td> <td> 0.000</td> <td>   -0.539</td> <td>   -0.359</td>\n",
       "</tr>\n",
       "<tr>\n",
       "  <th>HasCrCard</th>         <td>   -0.2137</td> <td>    0.063</td> <td>   -3.388</td> <td> 0.001</td> <td>   -0.337</td> <td>   -0.090</td>\n",
       "</tr>\n",
       "<tr>\n",
       "  <th>IsActiveMember</th>    <td>   -1.1160</td> <td>    0.064</td> <td>  -17.405</td> <td> 0.000</td> <td>   -1.242</td> <td>   -0.990</td>\n",
       "</tr>\n",
       "<tr>\n",
       "  <th>CreditScore</th>       <td>   -1.2961</td> <td>    0.128</td> <td>  -10.115</td> <td> 0.000</td> <td>   -1.547</td> <td>   -1.045</td>\n",
       "</tr>\n",
       "<tr>\n",
       "  <th>Geography_Germany</th> <td>    0.8182</td> <td>    0.066</td> <td>   12.369</td> <td> 0.000</td> <td>    0.689</td> <td>    0.948</td>\n",
       "</tr>\n",
       "<tr>\n",
       "  <th>age_bin_(20, 30]</th>  <td>   -0.6337</td> <td>    0.110</td> <td>   -5.774</td> <td> 0.000</td> <td>   -0.849</td> <td>   -0.419</td>\n",
       "</tr>\n",
       "<tr>\n",
       "  <th>age_bin_(40, 50]</th>  <td>    1.2706</td> <td>    0.071</td> <td>   17.800</td> <td> 0.000</td> <td>    1.131</td> <td>    1.410</td>\n",
       "</tr>\n",
       "<tr>\n",
       "  <th>age_bin_(50, 60]</th>  <td>    2.3535</td> <td>    0.103</td> <td>   22.754</td> <td> 0.000</td> <td>    2.151</td> <td>    2.556</td>\n",
       "</tr>\n",
       "<tr>\n",
       "  <th>age_bin_(60, 70]</th>  <td>    1.5314</td> <td>    0.154</td> <td>    9.974</td> <td> 0.000</td> <td>    1.230</td> <td>    1.832</td>\n",
       "</tr>\n",
       "</table>"
      ],
      "text/plain": [
       "<class 'statsmodels.iolib.summary.Summary'>\n",
       "\"\"\"\n",
       "                           Logit Regression Results                           \n",
       "==============================================================================\n",
       "Dep. Variable:                 Exited   No. Observations:                 8000\n",
       "Model:                          Logit   Df Residuals:                     7989\n",
       "Method:                           MLE   Df Model:                           10\n",
       "Date:                Sat, 05 Aug 2023   Pseudo R-squ.:                  0.1808\n",
       "Time:                        21:21:25   Log-Likelihood:                -3319.0\n",
       "converged:                       True   LL-Null:                       -4051.3\n",
       "Covariance Type:            nonrobust   LLR p-value:                1.104e-308\n",
       "=====================================================================================\n",
       "                        coef    std err          z      P>|z|      [0.025      0.975]\n",
       "-------------------------------------------------------------------------------------\n",
       "Gender                0.3897      0.061      6.407      0.000       0.270       0.509\n",
       "Tenure               -0.0531      0.010     -5.289      0.000      -0.073      -0.033\n",
       "NumOfProducts        -0.4488      0.046     -9.778      0.000      -0.539      -0.359\n",
       "HasCrCard            -0.2137      0.063     -3.388      0.001      -0.337      -0.090\n",
       "IsActiveMember       -1.1160      0.064    -17.405      0.000      -1.242      -0.990\n",
       "CreditScore          -1.2961      0.128    -10.115      0.000      -1.547      -1.045\n",
       "Geography_Germany     0.8182      0.066     12.369      0.000       0.689       0.948\n",
       "age_bin_(20, 30]     -0.6337      0.110     -5.774      0.000      -0.849      -0.419\n",
       "age_bin_(40, 50]      1.2706      0.071     17.800      0.000       1.131       1.410\n",
       "age_bin_(50, 60]      2.3535      0.103     22.754      0.000       2.151       2.556\n",
       "age_bin_(60, 70]      1.5314      0.154      9.974      0.000       1.230       1.832\n",
       "=====================================================================================\n",
       "\"\"\""
      ]
     },
     "execution_count": 69,
     "metadata": {},
     "output_type": "execute_result"
    }
   ],
   "source": [
    "model4 = sm.Logit(y_train,X_train )\n",
    "result = model4.fit()\n",
    "result.summary()\n"
   ]
  },
  {
   "cell_type": "code",
   "execution_count": 70,
   "id": "0681474e",
   "metadata": {},
   "outputs": [],
   "source": [
    "from sklearn.linear_model import LogisticRegression\n",
    "logReg = LogisticRegression()"
   ]
  },
  {
   "cell_type": "code",
   "execution_count": 71,
   "id": "5c271b99",
   "metadata": {},
   "outputs": [
    {
     "data": {
      "text/html": [
       "<style>#sk-container-id-1 {color: black;background-color: white;}#sk-container-id-1 pre{padding: 0;}#sk-container-id-1 div.sk-toggleable {background-color: white;}#sk-container-id-1 label.sk-toggleable__label {cursor: pointer;display: block;width: 100%;margin-bottom: 0;padding: 0.3em;box-sizing: border-box;text-align: center;}#sk-container-id-1 label.sk-toggleable__label-arrow:before {content: \"▸\";float: left;margin-right: 0.25em;color: #696969;}#sk-container-id-1 label.sk-toggleable__label-arrow:hover:before {color: black;}#sk-container-id-1 div.sk-estimator:hover label.sk-toggleable__label-arrow:before {color: black;}#sk-container-id-1 div.sk-toggleable__content {max-height: 0;max-width: 0;overflow: hidden;text-align: left;background-color: #f0f8ff;}#sk-container-id-1 div.sk-toggleable__content pre {margin: 0.2em;color: black;border-radius: 0.25em;background-color: #f0f8ff;}#sk-container-id-1 input.sk-toggleable__control:checked~div.sk-toggleable__content {max-height: 200px;max-width: 100%;overflow: auto;}#sk-container-id-1 input.sk-toggleable__control:checked~label.sk-toggleable__label-arrow:before {content: \"▾\";}#sk-container-id-1 div.sk-estimator input.sk-toggleable__control:checked~label.sk-toggleable__label {background-color: #d4ebff;}#sk-container-id-1 div.sk-label input.sk-toggleable__control:checked~label.sk-toggleable__label {background-color: #d4ebff;}#sk-container-id-1 input.sk-hidden--visually {border: 0;clip: rect(1px 1px 1px 1px);clip: rect(1px, 1px, 1px, 1px);height: 1px;margin: -1px;overflow: hidden;padding: 0;position: absolute;width: 1px;}#sk-container-id-1 div.sk-estimator {font-family: monospace;background-color: #f0f8ff;border: 1px dotted black;border-radius: 0.25em;box-sizing: border-box;margin-bottom: 0.5em;}#sk-container-id-1 div.sk-estimator:hover {background-color: #d4ebff;}#sk-container-id-1 div.sk-parallel-item::after {content: \"\";width: 100%;border-bottom: 1px solid gray;flex-grow: 1;}#sk-container-id-1 div.sk-label:hover label.sk-toggleable__label {background-color: #d4ebff;}#sk-container-id-1 div.sk-serial::before {content: \"\";position: absolute;border-left: 1px solid gray;box-sizing: border-box;top: 0;bottom: 0;left: 50%;z-index: 0;}#sk-container-id-1 div.sk-serial {display: flex;flex-direction: column;align-items: center;background-color: white;padding-right: 0.2em;padding-left: 0.2em;position: relative;}#sk-container-id-1 div.sk-item {position: relative;z-index: 1;}#sk-container-id-1 div.sk-parallel {display: flex;align-items: stretch;justify-content: center;background-color: white;position: relative;}#sk-container-id-1 div.sk-item::before, #sk-container-id-1 div.sk-parallel-item::before {content: \"\";position: absolute;border-left: 1px solid gray;box-sizing: border-box;top: 0;bottom: 0;left: 50%;z-index: -1;}#sk-container-id-1 div.sk-parallel-item {display: flex;flex-direction: column;z-index: 1;position: relative;background-color: white;}#sk-container-id-1 div.sk-parallel-item:first-child::after {align-self: flex-end;width: 50%;}#sk-container-id-1 div.sk-parallel-item:last-child::after {align-self: flex-start;width: 50%;}#sk-container-id-1 div.sk-parallel-item:only-child::after {width: 0;}#sk-container-id-1 div.sk-dashed-wrapped {border: 1px dashed gray;margin: 0 0.4em 0.5em 0.4em;box-sizing: border-box;padding-bottom: 0.4em;background-color: white;}#sk-container-id-1 div.sk-label label {font-family: monospace;font-weight: bold;display: inline-block;line-height: 1.2em;}#sk-container-id-1 div.sk-label-container {text-align: center;}#sk-container-id-1 div.sk-container {/* jupyter's `normalize.less` sets `[hidden] { display: none; }` but bootstrap.min.css set `[hidden] { display: none !important; }` so we also need the `!important` here to be able to override the default hidden behavior on the sphinx rendered scikit-learn.org. See: https://github.com/scikit-learn/scikit-learn/issues/21755 */display: inline-block !important;position: relative;}#sk-container-id-1 div.sk-text-repr-fallback {display: none;}</style><div id=\"sk-container-id-1\" class=\"sk-top-container\"><div class=\"sk-text-repr-fallback\"><pre>LogisticRegression()</pre><b>In a Jupyter environment, please rerun this cell to show the HTML representation or trust the notebook. <br />On GitHub, the HTML representation is unable to render, please try loading this page with nbviewer.org.</b></div><div class=\"sk-container\" hidden><div class=\"sk-item\"><div class=\"sk-estimator sk-toggleable\"><input class=\"sk-toggleable__control sk-hidden--visually\" id=\"sk-estimator-id-1\" type=\"checkbox\" checked><label for=\"sk-estimator-id-1\" class=\"sk-toggleable__label sk-toggleable__label-arrow\">LogisticRegression</label><div class=\"sk-toggleable__content\"><pre>LogisticRegression()</pre></div></div></div></div></div>"
      ],
      "text/plain": [
       "LogisticRegression()"
      ]
     },
     "execution_count": 71,
     "metadata": {},
     "output_type": "execute_result"
    }
   ],
   "source": [
    "logReg.fit(X_train,y_train)"
   ]
  },
  {
   "cell_type": "code",
   "execution_count": 72,
   "id": "6383d48b",
   "metadata": {},
   "outputs": [],
   "source": [
    "y_train_pred = logReg.predict(X_train)\n"
   ]
  },
  {
   "cell_type": "code",
   "execution_count": 73,
   "id": "2f299471",
   "metadata": {},
   "outputs": [],
   "source": [
    "X_test = X_test.drop(['age_bin_(30, 40]'], axis=1)"
   ]
  },
  {
   "cell_type": "code",
   "execution_count": 74,
   "id": "c821711e",
   "metadata": {},
   "outputs": [],
   "source": [
    "X_test = X_test.drop(['Geography_Spain'], axis=1)"
   ]
  },
  {
   "cell_type": "code",
   "execution_count": 75,
   "id": "cd000ec9",
   "metadata": {},
   "outputs": [],
   "source": [
    "X_test = X_test.drop(['bal_to_sal'], axis=1)"
   ]
  },
  {
   "cell_type": "code",
   "execution_count": 76,
   "id": "3f476c64",
   "metadata": {},
   "outputs": [],
   "source": [
    "X_test = X_test.drop(['age_bin_(70, 100]'], axis=1)"
   ]
  },
  {
   "cell_type": "code",
   "execution_count": 85,
   "id": "3a1affee",
   "metadata": {},
   "outputs": [
    {
     "data": {
      "text/plain": [
       "(2000, 11)"
      ]
     },
     "execution_count": 85,
     "metadata": {},
     "output_type": "execute_result"
    }
   ],
   "source": [
    "X_test.shape"
   ]
  },
  {
   "cell_type": "code",
   "execution_count": 81,
   "id": "ee544231",
   "metadata": {},
   "outputs": [
    {
     "data": {
      "text/plain": [
       "array([[0.94278809, 0.05721191],\n",
       "       [0.31303535, 0.68696465],\n",
       "       [0.52073328, 0.47926672],\n",
       "       ...,\n",
       "       [0.62867675, 0.37132325],\n",
       "       [0.80607641, 0.19392359],\n",
       "       [0.96576828, 0.03423172]])"
      ]
     },
     "execution_count": 81,
     "metadata": {},
     "output_type": "execute_result"
    }
   ],
   "source": [
    "YTrainProb = logReg.predict_proba(X_train)\n",
    "YTrainProb"
   ]
  },
  {
   "cell_type": "code",
   "execution_count": 82,
   "id": "aaf4f4af",
   "metadata": {},
   "outputs": [
    {
     "data": {
      "text/plain": [
       "array([[0.445452  , 0.554548  ],\n",
       "       [0.9052834 , 0.0947166 ],\n",
       "       [0.8516023 , 0.1483977 ],\n",
       "       ...,\n",
       "       [0.90738958, 0.09261042],\n",
       "       [0.70831599, 0.29168401],\n",
       "       [0.66271999, 0.33728001]])"
      ]
     },
     "execution_count": 82,
     "metadata": {},
     "output_type": "execute_result"
    }
   ],
   "source": [
    "YTextProb = logReg.predict_proba(X_test)\n",
    "YTextProb"
   ]
  },
  {
   "cell_type": "code",
   "execution_count": 77,
   "id": "bc25e174",
   "metadata": {},
   "outputs": [],
   "source": [
    "y_test_pred = logReg.predict(X_test)"
   ]
  },
  {
   "cell_type": "code",
   "execution_count": 78,
   "id": "2138bdc0",
   "metadata": {},
   "outputs": [],
   "source": [
    "#Model Evaluation \n",
    "\n",
    "score = logReg.score(X_train, y_train)"
   ]
  },
  {
   "cell_type": "code",
   "execution_count": 79,
   "id": "83cd1580",
   "metadata": {},
   "outputs": [
    {
     "name": "stdout",
     "output_type": "stream",
     "text": [
      "Accuracy score on train data : 0.83\n"
     ]
    }
   ],
   "source": [
    "print(\"Accuracy score on train data :\", score.round(2))"
   ]
  },
  {
   "cell_type": "code",
   "execution_count": 83,
   "id": "dd0ad073",
   "metadata": {},
   "outputs": [],
   "source": [
    "textScore = logReg.score(X_test, y_test)"
   ]
  },
  {
   "cell_type": "code",
   "execution_count": 84,
   "id": "0d84131a",
   "metadata": {},
   "outputs": [
    {
     "name": "stdout",
     "output_type": "stream",
     "text": [
      "Accuracy score on train data : 0.83\n"
     ]
    }
   ],
   "source": [
    "print(\"Accuracy score on train data :\", textScore.round(2))"
   ]
  },
  {
   "cell_type": "code",
   "execution_count": 91,
   "id": "345943ea",
   "metadata": {},
   "outputs": [],
   "source": [
    "from sklearn.metrics import confusion_matrix, classification_report, precision_recall_curve,recall_score"
   ]
  },
  {
   "cell_type": "code",
   "execution_count": 88,
   "id": "3a77f5bb",
   "metadata": {},
   "outputs": [
    {
     "name": "stdout",
     "output_type": "stream",
     "text": [
      "Defaulting to user installation because normal site-packages is not writeable\n",
      "Requirement already satisfied: scikit-learn in e:\\anaconda\\lib\\site-packages (1.2.1)\n",
      "Requirement already satisfied: threadpoolctl>=2.0.0 in e:\\anaconda\\lib\\site-packages (from scikit-learn) (2.2.0)\n",
      "Requirement already satisfied: scipy>=1.3.2 in e:\\anaconda\\lib\\site-packages (from scikit-learn) (1.10.0)\n",
      "Requirement already satisfied: joblib>=1.1.1 in e:\\anaconda\\lib\\site-packages (from scikit-learn) (1.1.1)\n",
      "Requirement already satisfied: numpy>=1.17.3 in e:\\anaconda\\lib\\site-packages (from scikit-learn) (1.23.5)\n"
     ]
    }
   ],
   "source": [
    "!pip install scikit-learn"
   ]
  },
  {
   "cell_type": "code",
   "execution_count": 92,
   "id": "3b9c1b01",
   "metadata": {},
   "outputs": [
    {
     "name": "stdout",
     "output_type": "stream",
     "text": [
      "              precision    recall  f1-score   support\n",
      "\n",
      "           0       0.84      0.96      0.90      6365\n",
      "           1       0.68      0.29      0.41      1635\n",
      "\n",
      "    accuracy                           0.83      8000\n",
      "   macro avg       0.76      0.63      0.66      8000\n",
      "weighted avg       0.81      0.83      0.80      8000\n",
      "\n"
     ]
    }
   ],
   "source": [
    "print(classification_report(y_train, y_train_pred))"
   ]
  },
  {
   "cell_type": "code",
   "execution_count": 94,
   "id": "0079eb6b",
   "metadata": {},
   "outputs": [
    {
     "name": "stdout",
     "output_type": "stream",
     "text": [
      "              precision    recall  f1-score   support\n",
      "\n",
      "           0       0.85      0.96      0.90      1598\n",
      "           1       0.67      0.32      0.43       402\n",
      "\n",
      "    accuracy                           0.83      2000\n",
      "   macro avg       0.76      0.64      0.67      2000\n",
      "weighted avg       0.81      0.83      0.81      2000\n",
      "\n"
     ]
    }
   ],
   "source": [
    "print(classification_report(y_test, y_test_pred))"
   ]
  },
  {
   "cell_type": "code",
   "execution_count": 95,
   "id": "36750b58",
   "metadata": {},
   "outputs": [],
   "source": [
    "cmTrain = confusion_matrix(y_train, y_train_pred)"
   ]
  },
  {
   "cell_type": "code",
   "execution_count": 96,
   "id": "8c210806",
   "metadata": {},
   "outputs": [
    {
     "name": "stdout",
     "output_type": "stream",
     "text": [
      "[[6139  226]\n",
      " [1153  482]]\n"
     ]
    }
   ],
   "source": [
    "print(cmTrain)"
   ]
  },
  {
   "cell_type": "code",
   "execution_count": 97,
   "id": "f2acf0d6",
   "metadata": {},
   "outputs": [
    {
     "name": "stdout",
     "output_type": "stream",
     "text": [
      "Area under the ROC Curve :0.759983\n"
     ]
    },
    {
     "data": {
      "image/png": "[encoded data removed]",
      "text/plain": [
       "<Figure size 640x480 with 1 Axes>"
      ]
     },
     "metadata": {},
     "output_type": "display_data"
    }
   ],
   "source": [
    "from sklearn.metrics import roc_curve, auc\n",
    "\n",
    "fpr, tpr, thresholds = roc_curve(y_test,YTextProb[:, 1], drop_intermediate=True)\n",
    "roc_auc = auc(fpr, tpr)\n",
    "\n",
    "print(\"Area under the ROC Curve :%f\" % roc_auc)\n",
    "plt.title('Receiver Operating Characteristic')\n",
    "plt.rcParams[\"figure.figsize\"] = (12,8)\n",
    "plt.plot(fpr, tpr, 'b', label = 'AUC = %0.2f' %roc_auc)\n",
    "plt.plot([0,1],[0,1],'r--')\n",
    "plt.xlim([0,1])\n",
    "plt.ylim([0,1])\n",
    "plt.ylabel('True Positive Rate')\n",
    "plt.xlabel('False Positive Rate')\n",
    "plt.show()"
   ]
  },
  {
   "cell_type": "code",
   "execution_count": 98,
   "id": "dc1fd2cd",
   "metadata": {},
   "outputs": [
    {
     "data": {
      "image/png": "[encoded data removed]",
      "text/plain": [
       "<Figure size 1000x700 with 1 Axes>"
      ]
     },
     "metadata": {},
     "output_type": "display_data"
    }
   ],
   "source": [
    "precisions_lg, recalls_lg, thresholds_lg = precision_recall_curve(y_test, YTextProb[:, 1])\n",
    "plt.figure(figsize=(10,7))\n",
    "plt.plot(thresholds_lg, precisions_lg[:-1], 'b--', label = 'precision')\n",
    "plt.plot(thresholds_lg, recalls_lg[:-1], 'g--', label = 'recall')\n",
    "plt.xlabel('Threshold')\n",
    "plt.legend(loc='upper left')\n",
    "plt.ylim([0,1])\n",
    "plt.show()"
   ]
  },
  {
   "cell_type": "code",
   "execution_count": null,
   "id": "86906d64",
   "metadata": {},
   "outputs": [],
   "source": []
  }
 ],
 "metadata": {
  "kernelspec": {
   "display_name": "Python 3 (ipykernel)",
   "language": "python",
   "name": "python3"
  },
  "language_info": {
   "codemirror_mode": {
    "name": "ipython",
    "version": 3
   },
   "file_extension": ".py",
   "mimetype": "text/x-python",
   "name": "python",
   "nbconvert_exporter": "python",
   "pygments_lexer": "ipython3",
   "version": "3.10.9"
  }
 },
 "nbformat": 4,
 "nbformat_minor": 5
}
